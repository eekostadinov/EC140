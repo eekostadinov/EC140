{
 "cells": [
  {
   "cell_type": "markdown",
   "id": "664a693f-3080-4696-8ca5-13e80f798568",
   "metadata": {},
   "source": [
    "(chapter:integrals)=\n",
    "\n",
    "# Numerical integration in R\n",
    "\n",
    "This chapter is a quick guide to numerical integration in R. Following the discussion you should understand how numerical integration works and be able to use R to compute numerically definite integrals of univariate functions.\n",
    "\n",
    ":::{tip}\n",
    "The discussion builds upon the material from chapters {ref}`chapter:plotting` and {ref}`chapter:functions` and assumes that you are able to work with user defined functions in R.\n",
    ":::\n",
    "\n",
    "The best way to work through the chapter is to read the discussion and then reproduce all code in your own R/RStudio installation. You can do this by copying code from a notebook cell to your R script and run the code line by line.\n",
    "\n",
    "The chapter includes some exercises that allow you to test your understanding. It is recommended that you try these exercises on your own before choosing the option to reveal the solutions."
   ]
  },
  {
   "cell_type": "markdown",
   "id": "83a3764f-eaba-42bd-9bcc-bfee0ffedcc3",
   "metadata": {},
   "source": [
    "## Numerical integration - primer\n",
    "\n",
    "Consider a function of one variable, $f(x)$, and its definite integral from $a$ to $b$ denoted\n",
    "\n",
    ":::{math}\n",
    ":label: def-int\n",
    "\\int_{a}^{b} f(x) dx\n",
    ":::\n",
    "\n",
    "which corresponds geometrically to the signed area between the graph of of the function and the horizontal axis.\n",
    "\n",
    "### What is numerical integration?\n",
    "\n",
    "We have seen that the analytical approach to evaluating {eq}`def-int` is to find an anti-derivative of $f$, say $F$, and then evaluate the integral as\n",
    "\n",
    ":::{math}\n",
    "\\int_{a}^{b} f(x) dx = F(b) - F(a)\n",
    ":::\n",
    "\n",
    "By using the analytical approach we can find the exact value of  {eq}`def-int`. \n",
    "\n",
    "On the other hand numerical integration is the use of computational techniques for **approximately** evaluating {eq}`def-int` without needing to find anti-derivatives. Numerical integration is especially useful when we have to integrate functions who do not have closed-form anti-derivatives (or if we don't know the anti-derivative), but also in many cases where we are satisfied by using an approximate solution.\n",
    "\n",
    "### How does numerical integration work?\n",
    "\n",
    "We have seen in the lectures, that formally the definite integral \n",
    "\n",
    ":::{math}\n",
    "\\int_{a}^{b} f(x) dx\n",
    ":::\n",
    "\n",
    "can be defined as the limit of the sum of the areas of rectangles fitted *\"just under\"* (or *\"just over\"*) the graph of the function between $a$ and $b$ when the number of these rectangles converges to infinity (or equivalently when the *width* of a rectangle converges to zero).  \n",
    "\n",
    "While numerical integration can be done in many different ways, in general it involves evaluating {eq}`def-int` by calculating the are of rectangles fitted *\"just under\"* (or *\"just over\"*) the graph of the function between $a$ and $b$ when the number of these rectangles is specified as a \"sufficiently\" large (but not infinite - computers can't deal with infinity). The idea of numerical integration therefore draws on the formal definition of integration above, but since the number of used rectangles cannot be infinite, it leads to an approximate, rather than exact solution. However, by varying the number of rectangles fitted we can control the absolute value of the numerical error. \n",
    "\n",
    "(section:integrals:byhand)=\n",
    "\n",
    "## Numerical integration in R from first principles\n",
    "\n",
    "While R has in-built functions for calculating definite integrals numerically to high precision (discussed in section {ref}`section:integrals:integrate`), we will start by conducting numerical integration \"by hand\" in the sense of only by using basic R functions and numerical methods. The purpose of this section is to illustrate the idea of numerical integration and build intuition about how the result of numerical integration functions should be understood and interpreted. \n",
    "\n",
    "We will do this for a specific function, and specific limits, but the same procedure can be applied to most basic functions with known functional form and any integration limits.\n",
    "\n",
    ":::{note}\n",
    "The following discussion includes some graphs which are produced in R. The code for producing the graphs is hidden as it is not central to the discussion, however, you can unhide it to see how to produce these graphs yourself. You should be familiar with most of the plotting functions used from the discussion in chapter {ref}`chapter:plotting` but the codes below also use some functionality from `graphics` not discussed before (in particular, the functions `polygon()` and `rect()`).  \n",
    ":::\n",
    "\n",
    "Consider the function \n",
    "\n",
    "$$\n",
    "f(x) = x^2 + 1\n",
    "$$\n",
    "\n",
    "and suppose that we want to obtain the value of \n",
    "\n",
    "$$\n",
    "\\int_0^5 f(x) dx\n",
    "$$\n",
    "\n",
    "For context, note that this integral is easy to find analytically as follows. \n",
    "One anti-derivative of $f$ is $F(x)=\\frac{1}{3}x^3+x$. Then \n",
    "\n",
    "$$\n",
    "\\int_0^5 f(x) dx = F(5)-F(0) = \\left.\\left[\\frac{1}{3}x^3+x\\right]\\right|_0^5=140/3\\approx46.666\n",
    "$$\n",
    "\n",
    "We can represent the value of the integral graphically as the value of the shaded area in the graph below"
   ]
  },
  {
   "cell_type": "code",
   "execution_count": 1,
   "id": "49e53596-eef0-4dc4-8f4c-55e7084c99f2",
   "metadata": {
    "tags": [
     "remove-cell"
    ],
    "vscode": {
     "languageId": "r"
    }
   },
   "outputs": [],
   "source": [
    "options(repr.plot.width=5, repr.plot.height=4, repr.plot.res=240)\n",
    "options(jupyter.plot_mimetypes = \"image/png\") "
   ]
  },
  {
   "cell_type": "code",
   "execution_count": 2,
   "id": "127abdfd-351d-4e6d-8e4e-873a53190ecb",
   "metadata": {
    "tags": [
     "hide-input"
    ],
    "vscode": {
     "languageId": "r"
    }
   },
   "outputs": [
    {
     "data": {
      "image/png": "[encoded data removed]"
     },
     "metadata": {
      "image/png": {
       "height": 480,
       "width": 600
      }
     },
     "output_type": "display_data"
    }
   ],
   "source": [
    "f <- function(x){x^2 + 1}\n",
    "\n",
    "a <- 0\n",
    "b <- 5\n",
    "\n",
    "plot(f,from = -1, to = 6 , col=\"red\", lwd=2, axes=FALSE)\n",
    "axis(1, pos=0)\n",
    "axis(2, pos=0, labels=FALSE, las=2)\n",
    "abline(v=c(0,5))\n",
    "\n",
    "xpol <- c(a,seq(a,b,by=0.01),b)\n",
    "ypol <- c(0,f(seq(a,b,by=0.01)),0)\n",
    "polygon(xpol,ypol, col=\"lightblue\", lty=\"dashed\")\n"
   ]
  },
  {
   "cell_type": "markdown",
   "id": "42829459-f0e8-4464-848f-1588440625ae",
   "metadata": {},
   "source": [
    "Now let's start computing this definite integral numerically. \n",
    "\n",
    "Let's start by approximating the area under the graph of the function with the area of two rectangles of equal width just below the graph of the function, as in the graph below. "
   ]
  },
  {
   "cell_type": "code",
   "execution_count": 3,
   "id": "707be6d2-136e-469c-ab65-abfcf1e1b48b",
   "metadata": {
    "tags": [
     "hide-input"
    ],
    "vscode": {
     "languageId": "r"
    }
   },
   "outputs": [
    {
     "data": {
      "image/png": "[encoded data removed]"
     },
     "metadata": {
      "image/png": {
       "height": 480,
       "width": 600
      }
     },
     "output_type": "display_data"
    }
   ],
   "source": [
    "f <- function(x){x^2 + 1}\n",
    "\n",
    "a <- 0\n",
    "b <- 5\n",
    "\n",
    "number_of_rectangles <- 2\n",
    "  \n",
    "xgrid <- seq(a, b, length.out=number_of_rectangles+1)\n",
    "xs <- xgrid[1:number_of_rectangles]\n",
    "ys <- f(xs)\n",
    "\n",
    "plot(f,from = -1, to = 6 , col=\"red\", axes=FALSE)\n",
    "axis(1, pos=0, at=xgrid)\n",
    "axis(2, pos=0, labels=FALSE, las=2)\n",
    "abline(v=c(a,b))\n",
    "\n",
    "xlefts <- xgrid[1:number_of_rectangles]\n",
    "xrights <- xgrid[2:(number_of_rectangles+1)]\n",
    "rect(xlefts, 0, xrights, ys, col=\"lightblue\")"
   ]
  },
  {
   "cell_type": "markdown",
   "id": "0f95f873-fb35-4b4c-a6a1-19dd2fa9b6a2",
   "metadata": {},
   "source": [
    "You may find that in the case of two rectangles you may find it is easier to do the below calculation by hand rather than by using a computer. However, the beauty of numerical methods is that once you do the code carefully, you can easily customize it to work in situations where doing it by hand will be much less efficient. In what follows we will write the code for computing the area of the two rectangles above which will be easy to customize to use any number of rectangles.\n",
    "\n",
    "To find the area of these rectangles follow the steps below.\n",
    "\n",
    "1. Define a function implementing `f(x)` \n",
    "2. (optionally) Define variables `a` and `b` storing the values of the lower and higher limits of integration.\n",
    "3. (optionally) Define a variable, say `number_of_rectangles` storing the value of the number of rectangles used in the approximation."
   ]
  },
  {
   "cell_type": "code",
   "execution_count": 4,
   "id": "a7935f17-ce2c-46b4-9f96-f0a998776fe0",
   "metadata": {
    "vscode": {
     "languageId": "r"
    }
   },
   "outputs": [],
   "source": [
    "f <- function(x){x^2 + 1}\n",
    "\n",
    "a <- 0\n",
    "b <- 5\n",
    "\n",
    "number_of_rectangles <- 2"
   ]
  },
  {
   "cell_type": "markdown",
   "id": "a124272a-0e59-47fb-ada8-02637389a07d",
   "metadata": {},
   "source": [
    "    Now we will need the widths and the heights of the rectangles. \n",
    "\n",
    "4. Proceed by creating a grid, say `xgrid`, of the horizontal endpoints of the rectangles. Since they are of equal width we can use the `seq()` function. Notice that the grid will have `number_of_rectangles+1` elements (for example, in the case of two rectangles the endpoints are 0, 2.5, and 5 as seen above)"
   ]
  },
  {
   "cell_type": "code",
   "execution_count": 5,
   "id": "5a59f187-c36f-4ba9-bf0f-5aa0573303dd",
   "metadata": {
    "vscode": {
     "languageId": "r"
    }
   },
   "outputs": [
    {
     "data": {
      "text/html": [
       "<style>\n",
       ".list-inline {list-style: none; margin:0; padding: 0}\n",
       ".list-inline>li {display: inline-block}\n",
       ".list-inline>li:not(:last-child)::after {content: \"\\00b7\"; padding: 0 .5ex}\n",
       "</style>\n",
       "<ol class=list-inline><li>0</li><li>2.5</li><li>5</li></ol>\n"
      ],
      "text/latex": [
       "\\begin{enumerate*}\n",
       "\\item 0\n",
       "\\item 2.5\n",
       "\\item 5\n",
       "\\end{enumerate*}\n"
      ],
      "text/markdown": [
       "1. 0\n",
       "2. 2.5\n",
       "3. 5\n",
       "\n",
       "\n"
      ],
      "text/plain": [
       "[1] 0.0 2.5 5.0"
      ]
     },
     "metadata": {},
     "output_type": "display_data"
    }
   ],
   "source": [
    "xgrid <- seq(a, b, length.out=number_of_rectangles+1)\n",
    "xgrid"
   ]
  },
  {
   "cell_type": "markdown",
   "id": "9cade1fb-1453-4faa-a52b-b17d7790078a",
   "metadata": {},
   "source": [
    "5. Store the width of the rectangles in a variable, say `dx`. The width of each rectangle is simply the distance between `b` and `a` divided by the number of rectangles. For example,"
   ]
  },
  {
   "cell_type": "code",
   "execution_count": 6,
   "id": "a85af519-6eff-43be-90da-54a451cea107",
   "metadata": {
    "vscode": {
     "languageId": "r"
    }
   },
   "outputs": [
    {
     "data": {
      "text/html": [
       "2.5"
      ],
      "text/latex": [
       "2.5"
      ],
      "text/markdown": [
       "2.5"
      ],
      "text/plain": [
       "[1] 2.5"
      ]
     },
     "metadata": {},
     "output_type": "display_data"
    }
   ],
   "source": [
    "dx <- (b-a)/number_of_rectangles\n",
    "dx"
   ]
  },
  {
   "cell_type": "markdown",
   "id": "6e0a3048-553a-4f1b-aa7b-7eb1fa0fbd10",
   "metadata": {},
   "source": [
    "    so the width of the rectangles when we use two rectangles is 2.5.\n",
    "\n",
    "6. Now we need the height of the rectangles. In general, the height of each rectangle equals the value of the function `f` evaluated at the left endpoint of the rectangle. \n",
    "\n",
    "- Let a vector, say `xs`, store the left endpoints of the rectangles. This vector will consist of the first `number_of_rectangles` elements of `xgrid` above (we need to omit the final element of `xgrid` because no rectangle has it as a left endpoint)."
   ]
  },
  {
   "cell_type": "code",
   "execution_count": 7,
   "id": "5d90367c-c46b-464a-9df9-6105adf090ba",
   "metadata": {
    "vscode": {
     "languageId": "r"
    }
   },
   "outputs": [
    {
     "data": {
      "text/html": [
       "<style>\n",
       ".list-inline {list-style: none; margin:0; padding: 0}\n",
       ".list-inline>li {display: inline-block}\n",
       ".list-inline>li:not(:last-child)::after {content: \"\\00b7\"; padding: 0 .5ex}\n",
       "</style>\n",
       "<ol class=list-inline><li>0</li><li>2.5</li></ol>\n"
      ],
      "text/latex": [
       "\\begin{enumerate*}\n",
       "\\item 0\n",
       "\\item 2.5\n",
       "\\end{enumerate*}\n"
      ],
      "text/markdown": [
       "1. 0\n",
       "2. 2.5\n",
       "\n",
       "\n"
      ],
      "text/plain": [
       "[1] 0.0 2.5"
      ]
     },
     "metadata": {},
     "output_type": "display_data"
    }
   ],
   "source": [
    "xs <- xgrid[1:number_of_rectangles]\n",
    "xs"
   ]
  },
  {
   "cell_type": "markdown",
   "id": "f24cfcbc-d69e-4a8a-b17d-6433726cea5d",
   "metadata": {},
   "source": [
    "so in the case of two rectangles, the left endpoints are 0 and 2.5.\n",
    "    \n",
    "- Next, evaluate the heights of the rectangles and store them in a vector, say `ys`. The heights of the rectangles are simply the value of the function `f` evaluated at the left endpoints of the rectangles (i.e. at `xs`)"
   ]
  },
  {
   "cell_type": "code",
   "execution_count": 8,
   "id": "405afb65-0f7d-434a-8042-76d616ec37db",
   "metadata": {
    "vscode": {
     "languageId": "r"
    }
   },
   "outputs": [
    {
     "data": {
      "text/html": [
       "<style>\n",
       ".list-inline {list-style: none; margin:0; padding: 0}\n",
       ".list-inline>li {display: inline-block}\n",
       ".list-inline>li:not(:last-child)::after {content: \"\\00b7\"; padding: 0 .5ex}\n",
       "</style>\n",
       "<ol class=list-inline><li>1</li><li>7.25</li></ol>\n"
      ],
      "text/latex": [
       "\\begin{enumerate*}\n",
       "\\item 1\n",
       "\\item 7.25\n",
       "\\end{enumerate*}\n"
      ],
      "text/markdown": [
       "1. 1\n",
       "2. 7.25\n",
       "\n",
       "\n"
      ],
      "text/plain": [
       "[1] 1.00 7.25"
      ]
     },
     "metadata": {},
     "output_type": "display_data"
    }
   ],
   "source": [
    "ys <- f(xs)\n",
    "ys"
   ]
  },
  {
   "cell_type": "markdown",
   "id": "540043d9-fe0a-4f5e-8953-86d9ff1415bd",
   "metadata": {},
   "source": [
    "So in the case of two rectangles,\n",
    "\n",
    "- the height of the first rectangle, `ys[1]`, is 1 ($f(0)=1$)\n",
    "\n",
    "- the height of the second rectangle, `ys[2]`, is 7.25 ($f(2.5)=7.25$)\n",
    "    "
   ]
  },
  {
   "cell_type": "markdown",
   "id": "875201bf-ee42-4c59-a4db-874bd6879d4f",
   "metadata": {},
   "source": [
    "Finally the sum of the areas of the rectangles is simply \n",
    "\n",
    "$$\n",
    "f(0)\\Delta x + f(2.5)\\Delta x = (f(0)+f(2.5)) \\Delta x\n",
    "$$\n",
    "\n",
    "where $\\Delta x$ is the width of the rectangle. \n",
    "    \n",
    "In terms of the names of the variables we defined in R this is simply `(f(0)+f(2.5))*dx` \n",
    "\n",
    "- or alternatively `(ys[1]+ys[2])*dx` where `ys[i]` denotes the `i`'th element of the vector `ys`\n",
    "\n",
    "- or even more conveniently `sum(ys)*dx`  (using the `sum()` function which returns the sum of all elements of a vector). This option is convenient because it works with the same syntax irrespective of the number of rectangles we have.\n",
    "\n",
    "So the sum of areas of the rectangles, say `sum_areas`, is simply"
   ]
  },
  {
   "cell_type": "code",
   "execution_count": 9,
   "id": "9c9eb3a1-dffe-4ee4-bada-6c17e783aee4",
   "metadata": {
    "vscode": {
     "languageId": "r"
    }
   },
   "outputs": [
    {
     "data": {
      "text/html": [
       "20.625"
      ],
      "text/latex": [
       "20.625"
      ],
      "text/markdown": [
       "20.625"
      ],
      "text/plain": [
       "[1] 20.625"
      ]
     },
     "metadata": {},
     "output_type": "display_data"
    }
   ],
   "source": [
    "sum_areas <- dx*sum(ys)\n",
    "sum_areas"
   ]
  },
  {
   "cell_type": "markdown",
   "id": "734bb789-ffe0-4d97-a731-16566fce9622",
   "metadata": {},
   "source": [
    "Now for clarity let's reproduce the whole code we needed for this calculation. Note that it's not a lot."
   ]
  },
  {
   "cell_type": "code",
   "execution_count": 10,
   "id": "edfdeec2-b407-43dc-8551-4b19e82b26f4",
   "metadata": {
    "vscode": {
     "languageId": "r"
    }
   },
   "outputs": [
    {
     "data": {
      "text/html": [
       "20.625"
      ],
      "text/latex": [
       "20.625"
      ],
      "text/markdown": [
       "20.625"
      ],
      "text/plain": [
       "[1] 20.625"
      ]
     },
     "metadata": {},
     "output_type": "display_data"
    }
   ],
   "source": [
    "f <- function(x){x^2 + 1}\n",
    "\n",
    "a <- 0\n",
    "b <- 5\n",
    "\n",
    "number_of_rectangles <- 2\n",
    "xgrid <- seq(a, b, length.out=number_of_rectangles+1)\n",
    "dx <- (b-a)/number_of_rectangles\n",
    "xs <- xgrid[1:number_of_rectangles]\n",
    "ys <- f(xs)\n",
    "sum_areas <- dx*sum(ys)\n",
    "\n",
    "sum_areas"
   ]
  },
  {
   "cell_type": "markdown",
   "id": "57a3e3b4-b838-47df-abeb-c7b88df4863f",
   "metadata": {},
   "source": [
    "Note that when we approximate the area with the area of two rectangles only we get 20.625 while the true value of the integral is 46.(6). The large approximation error is not surprising given the graph that we saw before - we are clearly omitting quite a bit of the area under the curve. \n",
    "\n",
    "To improve the approximation let's increase the number of rectangles to 5. Graphically, this would amount to approximating the area under the curve by the sum of areas of the five rectangles below."
   ]
  },
  {
   "cell_type": "code",
   "execution_count": 11,
   "id": "51d6afd0-88f4-4d34-adc4-2888b7eb204c",
   "metadata": {
    "tags": [
     "hide-input"
    ],
    "vscode": {
     "languageId": "r"
    }
   },
   "outputs": [
    {
     "data": {
      "image/png": "[encoded data removed]"
     },
     "metadata": {
      "image/png": {
       "height": 480,
       "width": 600
      }
     },
     "output_type": "display_data"
    }
   ],
   "source": [
    "f <- function(x){x^2 + 1}\n",
    "\n",
    "a <- 0\n",
    "b <- 5\n",
    "\n",
    "number_of_rectangles <- 5\n",
    "  \n",
    "xgrid <- seq(a, b, length.out=number_of_rectangles+1)\n",
    "xs <- xgrid[1:number_of_rectangles]\n",
    "ys <- f(xs)\n",
    "\n",
    "plot(f,from = -1, to = 6 , col=\"red\", axes=FALSE)\n",
    "axis(1, pos=0, at=xgrid)\n",
    "axis(2, pos=0, labels=FALSE, las=2)\n",
    "abline(v=c(a,b))\n",
    "\n",
    "xlefts <- xgrid[1:number_of_rectangles]\n",
    "xrights <- xgrid[2:(number_of_rectangles+1)]\n",
    "rect(xlefts, 0, xrights, ys, col=\"lightblue\")"
   ]
  },
  {
   "cell_type": "markdown",
   "id": "d8ca8278-6f12-42d1-a6d3-f2af3f8ab309",
   "metadata": {},
   "source": [
    "Now in order to calculate this area we can use exactly the same code as bofore but we need to set the number of rectangles to 5. "
   ]
  },
  {
   "cell_type": "code",
   "execution_count": 12,
   "id": "2d7062a5-2013-4fc9-98ea-fcf2f35b0ecc",
   "metadata": {
    "vscode": {
     "languageId": "r"
    }
   },
   "outputs": [
    {
     "data": {
      "text/html": [
       "35"
      ],
      "text/latex": [
       "35"
      ],
      "text/markdown": [
       "35"
      ],
      "text/plain": [
       "[1] 35"
      ]
     },
     "metadata": {},
     "output_type": "display_data"
    }
   ],
   "source": [
    "f <- function(x){x^2 + 1}\n",
    "\n",
    "a <- 0\n",
    "b <- 5\n",
    "\n",
    "number_of_rectangles <- 5\n",
    "xgrid <- seq(a, b, length.out=number_of_rectangles+1)\n",
    "dx <- (b-a)/number_of_rectangles\n",
    "xs <- xgrid[1:number_of_rectangles]\n",
    "ys <- f(xs)\n",
    "sum_areas <- dx*sum(ys)\n",
    "\n",
    "sum_areas"
   ]
  },
  {
   "cell_type": "markdown",
   "id": "09044040-e701-4e57-88ed-613ecf7bd5c8",
   "metadata": {},
   "source": [
    "As we can see the approximation gets better (now the area is 35 rather than 20.625) but we are still far from the true value of 46.667. \n",
    "\n",
    "Note that at this stage it becomes clear that calculating the area of these rectangles by hand will take quite a while, while the R code we use does the calculation in miliseconds.\n",
    "\n",
    "Let's take a big step and use 100 rectangles (if we were to do this by hand it might take weeks, but a computer excels at repetitive tasks)."
   ]
  },
  {
   "cell_type": "code",
   "execution_count": 13,
   "id": "6074aef0-97bf-4932-a93a-6b5326b9982d",
   "metadata": {
    "tags": [
     "hide-input"
    ],
    "vscode": {
     "languageId": "r"
    }
   },
   "outputs": [
    {
     "data": {
      "image/png": "[encoded data removed]"
     },
     "metadata": {
      "image/png": {
       "height": 480,
       "width": 600
      }
     },
     "output_type": "display_data"
    }
   ],
   "source": [
    "f <- function(x){x^2 + 1}\n",
    "\n",
    "a <- 0\n",
    "b <- 5\n",
    "\n",
    "number_of_rectangles <- 100\n",
    "  \n",
    "xgrid <- seq(a, b, length.out=number_of_rectangles+1)\n",
    "xs <- xgrid[1:number_of_rectangles]\n",
    "ys <- f(xs)\n",
    "\n",
    "plot(f,from = -1, to = 6 , col=\"red\", axes=FALSE)\n",
    "axis(1, pos=0, labels=FALSE)\n",
    "axis(2, pos=0, labels=FALSE, las=2)\n",
    "abline(v=c(a,b))\n",
    "\n",
    "xlefts <- xgrid[1:number_of_rectangles]\n",
    "xrights <- xgrid[2:(number_of_rectangles+1)]\n",
    "rect(xlefts, 0, xrights, ys, col=\"lightblue\")"
   ]
  },
  {
   "cell_type": "markdown",
   "id": "2aba7633-8198-4f0c-a0b9-79b4a9a7b21d",
   "metadata": {},
   "source": [
    "Use exactly the same code but set `number_of_rectangles <- 100`"
   ]
  },
  {
   "cell_type": "code",
   "execution_count": 14,
   "id": "3078e69c-b571-4fee-be99-ebcc0f1eaca9",
   "metadata": {
    "vscode": {
     "languageId": "r"
    }
   },
   "outputs": [
    {
     "data": {
      "text/html": [
       "46.04375"
      ],
      "text/latex": [
       "46.04375"
      ],
      "text/markdown": [
       "46.04375"
      ],
      "text/plain": [
       "[1] 46.04375"
      ]
     },
     "metadata": {},
     "output_type": "display_data"
    }
   ],
   "source": [
    "f <- function(x){x^2 + 1}\n",
    "\n",
    "a <- 0\n",
    "b <- 5\n",
    "\n",
    "number_of_rectangles <- 100\n",
    "xgrid <- seq(a, b, length.out=number_of_rectangles+1)\n",
    "dx <- (b-a)/number_of_rectangles\n",
    "xs <- xgrid[1:number_of_rectangles]\n",
    "ys <- f(xs)\n",
    "sum_areas <- dx*sum(ys)\n",
    "\n",
    "sum_areas"
   ]
  },
  {
   "cell_type": "markdown",
   "id": "e7d30453-f1bb-429e-a608-fbd0bc1808be",
   "metadata": {},
   "source": [
    "This is much better, with the approximation error less than 1.\n",
    "\n",
    "And for 10000 rectangles"
   ]
  },
  {
   "cell_type": "code",
   "execution_count": 15,
   "id": "4d39194e-8181-4a74-a787-bdfa1a9f1630",
   "metadata": {
    "tags": [
     "hide-input"
    ],
    "vscode": {
     "languageId": "r"
    }
   },
   "outputs": [
    {
     "data": {
      "image/png": "[encoded data removed]"
     },
     "metadata": {
      "image/png": {
       "height": 480,
       "width": 600
      }
     },
     "output_type": "display_data"
    }
   ],
   "source": [
    "f <- function(x){x^2 + 1}\n",
    "\n",
    "a <- 0\n",
    "b <- 5\n",
    "\n",
    "number_of_rectangles <- 10000\n",
    "  \n",
    "xgrid <- seq(a, b, length.out=number_of_rectangles+1)\n",
    "xs <- xgrid[1:number_of_rectangles]\n",
    "ys <- f(xs)\n",
    "\n",
    "plot(f,from = -1, to = 6 , col=\"red\", axes=FALSE)\n",
    "axis(1, pos=0, labels=FALSE)\n",
    "axis(2, pos=0, labels=FALSE, las=2)\n",
    "abline(v=c(a,b))\n",
    "\n",
    "xlefts <- xgrid[1:number_of_rectangles]\n",
    "xrights <- xgrid[2:(number_of_rectangles+1)]\n",
    "rect(xlefts, 0, xrights, ys, col=\"lightblue\")"
   ]
  },
  {
   "cell_type": "markdown",
   "id": "0fb5c0c3-3fe6-45bf-ad3f-f52de6f92477",
   "metadata": {},
   "source": [
    "Set `number_of_rectangles <- 10000`"
   ]
  },
  {
   "cell_type": "code",
   "execution_count": 16,
   "id": "ce17212c-2a14-4af6-9d26-aadb1a2a176b",
   "metadata": {
    "vscode": {
     "languageId": "r"
    }
   },
   "outputs": [
    {
     "data": {
      "text/html": [
       "46.660416875"
      ],
      "text/latex": [
       "46.660416875"
      ],
      "text/markdown": [
       "46.660416875"
      ],
      "text/plain": [
       "[1] 46.66042"
      ]
     },
     "metadata": {},
     "output_type": "display_data"
    }
   ],
   "source": [
    "f <- function(x){x^2 + 1}\n",
    "\n",
    "a <- 0\n",
    "b <- 5\n",
    "\n",
    "number_of_rectangles <- 10000\n",
    "xgrid <- seq(a, b, length.out=number_of_rectangles+1)\n",
    "dx <- (b-a)/number_of_rectangles\n",
    "xs <- xgrid[1:number_of_rectangles]\n",
    "ys <- f(xs)\n",
    "sum_areas <- dx*sum(ys)\n",
    "\n",
    "sum_areas"
   ]
  },
  {
   "cell_type": "markdown",
   "id": "02e6785f-3c00-438c-a42a-f95583783598",
   "metadata": {},
   "source": [
    "And the numerical error is now only about 0.006."
   ]
  },
  {
   "cell_type": "markdown",
   "id": "da29042d-a57e-4cca-a255-95974c504bd4",
   "metadata": {},
   "source": [
    "This is the idea of numerical integration. There are different methods used to improve the accuracy beyond using more rectangles (e.g. using trapezoids rather than rectangles) but in all cases numerical integration works by approximating area under a curve by sums of areas of rectangles (or trapezoids, etc) and uses further methods to control the approximation error."
   ]
  },
  {
   "cell_type": "markdown",
   "id": "844bfa41-de0c-41e4-a638-1cdf2bca2250",
   "metadata": {
    "tags": []
   },
   "source": [
    "(section:integrals:integrate)=\n",
    "\n",
    "## Numerical integration in R using `integrate()`\n",
    "\n",
    "I hope that you found the discussion in {ref}`section:integrals:byhand` interesting and useful and now understand what numerical integration means and how it works, as well as you have an intuition about why it works and why is an approximate method. \n",
    "\n",
    "However, in reality we rarely implement numerical integration from first principles and can instead use in-built functions that implement numerical integration efficiently and with high accuracy.\n",
    "\n",
    "The bottom line is that such a function in R is the function `integrate()` with usage\n",
    "\n",
    "`integrate(f,a,b)` \n",
    "\n",
    "where\n",
    "- `f` is the function to be integrated\n",
    "- `a` is the lower limit of integration \n",
    "- `b` is the upper limit of integration\n",
    "\n",
    "To use `integrate()` to compute the definite integral from before just set `f`, `a`, and `b`, as before"
   ]
  },
  {
   "cell_type": "code",
   "execution_count": 17,
   "id": "74c5ee08-baa1-43aa-bcea-2ef51343e61c",
   "metadata": {
    "vscode": {
     "languageId": "r"
    }
   },
   "outputs": [],
   "source": [
    "f <- function(x){x^2 + 1}\n",
    "\n",
    "a <- 0\n",
    "b <- 5"
   ]
  },
  {
   "cell_type": "markdown",
   "id": "66685a42-4564-447b-8ad5-64dd16e9fcec",
   "metadata": {},
   "source": [
    "and call the function"
   ]
  },
  {
   "cell_type": "code",
   "execution_count": 18,
   "id": "2ce6281b-ac85-48bf-bc08-210ebaf01099",
   "metadata": {
    "vscode": {
     "languageId": "r"
    }
   },
   "outputs": [
    {
     "data": {
      "text/plain": [
       "46.66667 with absolute error < 5.2e-13"
      ]
     },
     "metadata": {},
     "output_type": "display_data"
    }
   ],
   "source": [
    "integrate(f,a,b)"
   ]
  },
  {
   "cell_type": "markdown",
   "id": "61529b66-7df3-464b-b22d-87fcf7c98020",
   "metadata": {},
   "source": [
    "As you can see it works very quickly, and produces a result with approximation error of the order 0.0000000000005, which is quite precise.\n",
    "\n",
    "Using the `integrate()` function you are able to quickly evaluate definite integrals for any univariate function that you can define through an expression."
   ]
  },
  {
   "cell_type": "markdown",
   "id": "46cb8d04-099e-465a-b573-dfeabc6bf2e2",
   "metadata": {},
   "source": [
    "This completes the discussion of {ref}`chapter:integrals` as well as this set of notes on numerical methods. I hope that you have enjoyed it.\n",
    "\n",
    "Thank you for reading and all the best!"
   ]
  }
 ],
 "metadata": {
  "kernelspec": {
   "display_name": "R",
   "language": "R",
   "name": "ir"
  },
  "language_info": {
   "codemirror_mode": "r",
   "file_extension": ".r",
   "mimetype": "text/x-r-source",
   "name": "R",
   "pygments_lexer": "r",
   "version": "4.2.1"
  }
 },
 "nbformat": 4,
 "nbformat_minor": 5
}
