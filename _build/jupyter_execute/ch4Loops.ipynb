{
 "cells": [
  {
   "cell_type": "markdown",
   "id": "3d8d6548-237f-4c37-adcf-7123f088aba1",
   "metadata": {},
   "source": [
    "(chapter:loops)=\n",
    "\n",
    "# Loops in R\n",
    "\n",
    "This chapter is a quick introduction to loops. Following the discussion you should understand what loops are, and be able to use *for loop* in R.\n",
    "\n",
    "The best way to work through the chapter is to read the discussion and then reproduce all code in your own R/RStudio installation. You can do this by copying code from a notebook cell to your R script and run the code line by line.\n",
    "\n",
    "The chapter includes some exercises that allow you to test your understanding. It is recommended that you try these exercises on your own before choosing the option to reveal the solutions."
   ]
  },
  {
   "cell_type": "markdown",
   "id": "237d90b6-d0bd-41c2-96ab-3315f3755429",
   "metadata": {},
   "source": [
    "## What is a loop?\n",
    "\n",
    "In programming a **loop** is a sequence of statements which is specified only once (in the code inside the body of the loop) but is carried out several times in a succession. Loops provide a convenient way to execute operations which can be carried out by a sequential application of the same procedure.\n",
    "\n",
    "There are several types of loops but in these notes we will only make a use of **for loops** (other types of loops work in a similar way). A *for loop* specifies a fixed number of *iterations* over which the code inside the body of the loop will be executed.\n",
    "\n",
    "In R a for loop is called through the following syntax\n",
    "\n",
    ":::{code-block}\n",
    "\n",
    "for (`index` in `sequence`)\n",
    "{\n",
    "statements (body of the loop) \n",
    "}\n",
    ":::\n",
    "\n",
    "Given a sequence (say a vector of numbers) specified in `sequence`, the above loop will create a variable (in the above code referred to as `index`) which \n",
    "\n",
    "- (1st iteration) initially will take the value of the first element of `sequence` after which the statements inside the body of the loop will be executed\n",
    "- (2nd iteration) next `index` will take the value of the second element of `sequence` after which the statements inside the body of the loop will be executed again\n",
    "- ... and so forth until `index` has taken the value of all the elements in `sequence`\n",
    "\n",
    "This might appear a bit difficult to follow but will become clear after a few examples."
   ]
  },
  {
   "cell_type": "markdown",
   "id": "d4c9c9d0-af35-43f2-8602-ffa9ff9b932c",
   "metadata": {},
   "source": [
    "### Example 1\n",
    "\n",
    "::::{note}\n",
    "To understand the following code you should know the function `print()` which simply prints its argument on the screen. For example,\n",
    "\n",
    ":::{code-block}\n",
    "print(1)\n",
    ":::\n",
    "\n",
    "returns \n",
    "\n",
    ":::{code-block}\n",
    "[1] 1\n",
    ":::\n",
    "\n",
    "Similarly,\n",
    "\n",
    ":::{code-block}\n",
    "x <- 1\n",
    "print(x)\n",
    ":::\n",
    "\n",
    "returns \n",
    "\n",
    ":::{code-block}\n",
    "[1] 1\n",
    ":::\n",
    "\n",
    "::::\n",
    "\n",
    "To see how a loop works consider the following very simple example. Suppose that for some reason we want to print the numbers from 1 to 10 on screen. One way to proceed is to call print 10 times "
   ]
  },
  {
   "cell_type": "code",
   "execution_count": 1,
   "id": "43c7acd2-a316-480c-a60d-4367a372210a",
   "metadata": {
    "vscode": {
     "languageId": "r"
    }
   },
   "outputs": [
    {
     "name": "stdout",
     "output_type": "stream",
     "text": [
      "[1] 1\n"
     ]
    },
    {
     "name": "stdout",
     "output_type": "stream",
     "text": [
      "[1] 2\n"
     ]
    },
    {
     "name": "stdout",
     "output_type": "stream",
     "text": [
      "[1] 3\n"
     ]
    },
    {
     "name": "stdout",
     "output_type": "stream",
     "text": [
      "[1] 4\n"
     ]
    },
    {
     "name": "stdout",
     "output_type": "stream",
     "text": [
      "[1] 5\n"
     ]
    },
    {
     "name": "stdout",
     "output_type": "stream",
     "text": [
      "[1] 6\n"
     ]
    },
    {
     "name": "stdout",
     "output_type": "stream",
     "text": [
      "[1] 7\n"
     ]
    },
    {
     "name": "stdout",
     "output_type": "stream",
     "text": [
      "[1] 8\n"
     ]
    },
    {
     "name": "stdout",
     "output_type": "stream",
     "text": [
      "[1] 9\n"
     ]
    },
    {
     "name": "stdout",
     "output_type": "stream",
     "text": [
      "[1] 10\n"
     ]
    }
   ],
   "source": [
    "print(1)\n",
    "print(2)\n",
    "print(3)\n",
    "print(4)\n",
    "print(5)\n",
    "print(6)\n",
    "print(7)\n",
    "print(8)\n",
    "print(9)\n",
    "print(10)"
   ]
  },
  {
   "cell_type": "markdown",
   "id": "c30df820-7151-4a50-93d6-0d6bfea41b38",
   "metadata": {},
   "source": [
    "For repetitive tasks like this it is more efficient to use a loop instead. A *for loop* that executes exactly the same sequence of statements can be invoked by"
   ]
  },
  {
   "cell_type": "code",
   "execution_count": 2,
   "id": "5cb792ba-a99f-4f7a-87e0-e818d03af253",
   "metadata": {
    "vscode": {
     "languageId": "r"
    }
   },
   "outputs": [
    {
     "name": "stdout",
     "output_type": "stream",
     "text": [
      "[1] 1\n",
      "[1] 2\n",
      "[1] 3\n",
      "[1] 4\n",
      "[1] 5\n",
      "[1] 6\n",
      "[1] 7\n",
      "[1] 8\n",
      "[1] 9\n",
      "[1] 10\n"
     ]
    }
   ],
   "source": [
    "for (i in 1:10)\n",
    "{\n",
    "    print(i)\n",
    "}"
   ]
  },
  {
   "cell_type": "markdown",
   "id": "beeccb82-d24f-4784-af55-eced36febddc",
   "metadata": {},
   "source": [
    "The code defined an index variable called `i` and a sequence for `i` to iterate over, `1:10`. At each iteration the program prints the value of `i`. \n",
    "\n",
    "- At the first iteration `i` takes the value of 1. Then the program executes the statement `print(1)`\n",
    "- At the second iteration `i` takes the value of 2. Then the program executes the statement `print(2)`\n",
    "- and so forth until the tenth and final iteration."
   ]
  },
  {
   "cell_type": "markdown",
   "id": "6031de2a-89b2-4cdb-97d8-752034c58f96",
   "metadata": {},
   "source": [
    "(section:loops:example2)=\n",
    "\n",
    "### Example 2\n",
    "\n",
    "As another example, suppose that you want to print the first 15 elements of the geometric progression \n",
    "\n",
    "$$\n",
    "\\left\\{5, 5\\times\\frac{1}{2}, 5\\times\\left(\\frac{1}{2}\\right)^2, 5\\times\\left(\\frac{1}{2}\\right)^3, ..., 5\\times\\left(\\frac{1}{2}\\right)^{14} \\right\\}\n",
    "$$\n",
    "\n",
    "with first element $5$ and common ratio $1/2$."
   ]
  },
  {
   "cell_type": "markdown",
   "id": "94f6e49d-e22d-4cbd-9e20-92bba68a63ca",
   "metadata": {},
   "source": [
    "Without loops, one way to do this is by the following sequence of repetitive statements:"
   ]
  },
  {
   "cell_type": "code",
   "execution_count": 3,
   "id": "29f4a830-a826-4b07-852a-192d179b8392",
   "metadata": {
    "vscode": {
     "languageId": "r"
    }
   },
   "outputs": [
    {
     "name": "stdout",
     "output_type": "stream",
     "text": [
      "[1] 5\n"
     ]
    }
   ],
   "source": [
    "# First element\n",
    "\n",
    "x <- 5\n",
    "print(x)"
   ]
  },
  {
   "cell_type": "code",
   "execution_count": 4,
   "id": "b100781b-49e4-471a-a392-7280e9ea93d7",
   "metadata": {
    "vscode": {
     "languageId": "r"
    }
   },
   "outputs": [
    {
     "name": "stdout",
     "output_type": "stream",
     "text": [
      "[1] 2.5\n"
     ]
    }
   ],
   "source": [
    "# Next element\n",
    "\n",
    "x <- x*(1/2)\n",
    "print(x)"
   ]
  },
  {
   "cell_type": "code",
   "execution_count": 5,
   "id": "f4b8a229-f26b-4fea-8192-c859b910e4de",
   "metadata": {
    "vscode": {
     "languageId": "r"
    }
   },
   "outputs": [
    {
     "name": "stdout",
     "output_type": "stream",
     "text": [
      "[1] 1.25\n"
     ]
    }
   ],
   "source": [
    "# Next element\n",
    "\n",
    "x <- x*(1/2)\n",
    "print(x)"
   ]
  },
  {
   "cell_type": "markdown",
   "id": "50e7a390-1a73-44ae-ad37-0c982e576c88",
   "metadata": {},
   "source": [
    "And so forth 12 more times.\n",
    "\n",
    "Given the repetitive nature of the process we can use a *for loop* instead:"
   ]
  },
  {
   "cell_type": "code",
   "execution_count": 6,
   "id": "64c1b786-70a1-49eb-9be7-a2953b40b1ad",
   "metadata": {
    "vscode": {
     "languageId": "r"
    }
   },
   "outputs": [
    {
     "name": "stdout",
     "output_type": "stream",
     "text": [
      "[1] 5\n"
     ]
    },
    {
     "name": "stdout",
     "output_type": "stream",
     "text": [
      "[1] 2.5\n",
      "[1] 1.25\n",
      "[1] 0.625\n",
      "[1] 0.3125\n",
      "[1] 0.15625\n",
      "[1] 0.078125\n",
      "[1] 0.0390625\n",
      "[1] 0.01953125\n",
      "[1] 0.009765625\n",
      "[1] 0.004882812\n",
      "[1] 0.002441406\n",
      "[1] 0.001220703\n",
      "[1] 0.0006103516\n",
      "[1] 0.0003051758\n"
     ]
    }
   ],
   "source": [
    "x <- 5\n",
    "print(x)\n",
    "\n",
    "for (i in 2:15)\n",
    "{\n",
    "    x <- x*(1/2)\n",
    "    print(x)\n",
    "}"
   ]
  },
  {
   "cell_type": "markdown",
   "id": "95437880-4cb8-4d50-8769-7d72a44f8f48",
   "metadata": {},
   "source": [
    "Notice that the first element of the progression is initialized outside of the loop because the statement inside the loop `x <- x*(1/2)` requires that a value of `x` is already defined. \n",
    "\n",
    "Subsequently, we need the loop to iterate 14 times only. We achieved this by specifying a loop sequence of 14 elements (`2:15`) although we could have specified any other sequence of 14 elements (e.g. `1:14`) as the value of `i` does not enter inside the code in this instance."
   ]
  },
  {
   "cell_type": "markdown",
   "id": "cac4c04e-7769-40b0-a0b4-2d7d65dd9154",
   "metadata": {},
   "source": [
    "Notice that after the loop is executed, `x` has a value equal to its value from the last iteration."
   ]
  },
  {
   "cell_type": "code",
   "execution_count": 7,
   "id": "2935f154-132a-47cc-9fa0-33c92ee2568a",
   "metadata": {
    "vscode": {
     "languageId": "r"
    }
   },
   "outputs": [
    {
     "data": {
      "text/html": [
       "0.00030517578125"
      ],
      "text/latex": [
       "0.00030517578125"
      ],
      "text/markdown": [
       "0.00030517578125"
      ],
      "text/plain": [
       "[1] 0.0003051758"
      ]
     },
     "metadata": {},
     "output_type": "display_data"
    }
   ],
   "source": [
    "x"
   ]
  },
  {
   "cell_type": "markdown",
   "id": "d8cfe22d-bd92-4da3-b52e-ab284d2fb3d1",
   "metadata": {},
   "source": [
    "### Example 3\n",
    "\n",
    "Given the geometric progression above, suppose that we are not interested in printing all these numbers but simply in finding the value of the 125th element of the progression. This can be easily done with effectively the same code except for removing the `print()` statements and making the loop iterate 124 times:"
   ]
  },
  {
   "cell_type": "code",
   "execution_count": 8,
   "id": "7c3337c3-112a-40ff-b617-069f42a020a2",
   "metadata": {
    "vscode": {
     "languageId": "r"
    }
   },
   "outputs": [
    {
     "name": "stdout",
     "output_type": "stream",
     "text": [
      "[1] 2.350989e-37\n"
     ]
    }
   ],
   "source": [
    "x <- 5\n",
    "\n",
    "for (i in 2:125)\n",
    "{\n",
    "    x <- x*(1/2)\n",
    "}\n",
    "print(x)"
   ]
  },
  {
   "cell_type": "markdown",
   "id": "b98d9e3f",
   "metadata": {},
   "source": [
    ":::{note}\n",
    "When printing the values of \"very small\" or \"very large\" numbers R uses *scientific e notation*. Simply put, the output of the above code, the number `2.350989e-37` means nothing else but the number $2.350989\\times10^{-37}$ (basically, the syntax `e` means \"10 to the power\", and should not be confused with the Euler's constant $e$). Alternatively, `1.5e+08` would mean nothing else but `150000000`.\n",
    "\n",
    "This is convenient for very small or large numbers because if we were using non-scientific notation the output of the above command, `2.350989e-37`, would be printed as `0.0000000000000000000000000000000000002350989`, which is more difficult to compare to a number of a similar magnitude.\n",
    "\n",
    ":::"
   ]
  },
  {
   "cell_type": "markdown",
   "id": "47cbfd02-c30c-4058-94a3-46df61855e81",
   "metadata": {},
   "source": [
    "As a matter of fact notice that using a loop for the above calculation was not really necessary because we have a formula for the 125th element of the progression that we could have used instead and find the value with one operation only. Recall that for a geometric progression with first element $A$ and common ration $R$, the $n$th element of the progression is simply $A\\times R^{(n-1)}$. In our example, with $A=5, R=1/2, n=125$ this translates to"
   ]
  },
  {
   "cell_type": "code",
   "execution_count": 9,
   "id": "cc538406-6c26-4ff4-a9f6-a3626118a25a",
   "metadata": {
    "vscode": {
     "languageId": "r"
    }
   },
   "outputs": [
    {
     "data": {
      "text/html": [
       "2.35098870164458e-37"
      ],
      "text/latex": [
       "2.35098870164458e-37"
      ],
      "text/markdown": [
       "2.35098870164458e-37"
      ],
      "text/plain": [
       "[1] 2.350989e-37"
      ]
     },
     "metadata": {},
     "output_type": "display_data"
    }
   ],
   "source": [
    "5*(1/2)^124"
   ]
  },
  {
   "cell_type": "markdown",
   "id": "60822145-c741-4280-a355-ad51a400bc5d",
   "metadata": {},
   "source": [
    "which is much easier.\n",
    "\n",
    "As a general principle we have no reason to use loops in situations like this and should favour analytical to numerical procedures as the former are computationally much less intensive (although both pieces of code execute fast enough not to spot the difference). However, the purpose of the discussion was more as an example of using loops rather than a suggestion that you should use a loop for such calculation.\n"
   ]
  },
  {
   "cell_type": "markdown",
   "id": "ed6e5f41-4e94-4d94-80fd-33489b5444f6",
   "metadata": {},
   "source": [
    "\n",
    "\n",
    ":::{exercise} \n",
    ":label: ex-fibonacci\n",
    "\n",
    "**Note: This exercise is relatively difficult. Don't worry if you can't solve it on your own but give it a try.**\n",
    "\n",
    "The Fibonacci sequence is a sequence of numbers, $\\{F_1, F_2, F_3,...\\}$, such that \n",
    "\n",
    "- the first two elements of the sequence are $F_1=0$ and $F_2=1$\n",
    "\n",
    "- following which each subsequent element is defined recursively by \n",
    "\n",
    "$$\n",
    "F_n = F_{n-1} + F_{n-2}\n",
    "$$\n",
    "\n",
    "Write a for loop which finds the 37th Fibonacci number, $F_{37}$.\n",
    "\n",
    ":::"
   ]
  },
  {
   "cell_type": "markdown",
   "id": "4cb17f0d",
   "metadata": {},
   "source": [
    "::::{hint} \n",
    ":class: dropdown\n",
    "\n",
    "1. Make sure to initialize the first two elements of the sequence before the loop, e.g. `f_1<-0` and `f_2<-1`, and then run the loop for 35 subsequent iterations.\n",
    "\n",
    "2. In the body of the loop you will have to set the value of the subsequent element of the sequence, and then reinitialize `f_1` and `f_2` to correspond to the the elements before the current element.\n",
    "\n",
    "You can think in terms of the following code without loops\n",
    "\n",
    "```\n",
    "## Initialize first two elements outside the loop\n",
    "f_1 <- 0\n",
    "f_2 <- 1\n",
    "\n",
    "## Start loop\n",
    "# Iteration 1\n",
    "f_i <- f_1 + f_2\n",
    "f_1 <- f_2\n",
    "f_2 <- f_i\n",
    "\n",
    "# And so forth\n",
    "\n",
    "```\n",
    "\n",
    "::::"
   ]
  },
  {
   "cell_type": "markdown",
   "id": "92d38d8f-9c32-4607-9b69-b09df45a2186",
   "metadata": {},
   "source": [
    "::::{solution} ex-fibonacci\n",
    ":class: dropdown\n",
    "\n",
    "The code below provides a solution to the exercise\n",
    "\n",
    ":::{code-block}\n",
    "f_1 <- 0\n",
    "f_2 <- 1\n",
    "\n",
    "for (i in 3:37)\n",
    "{\n",
    "    f_i <- f_1 + f_2\n",
    "    f_1 <- f_2\n",
    "    f_2 <- f_i\n",
    "}\n",
    "\n",
    "f_i\n",
    ":::\n",
    "\n",
    ":::{code-block}\n",
    "14930352\n",
    ":::\n",
    "::::"
   ]
  },
  {
   "cell_type": "code",
   "execution_count": 10,
   "id": "aace5988-4500-448a-a811-b0ed30d10752",
   "metadata": {
    "tags": [
     "remove-cell"
    ],
    "vscode": {
     "languageId": "r"
    }
   },
   "outputs": [
    {
     "data": {
      "text/html": [
       "14930352"
      ],
      "text/latex": [
       "14930352"
      ],
      "text/markdown": [
       "14930352"
      ],
      "text/plain": [
       "[1] 14930352"
      ]
     },
     "metadata": {},
     "output_type": "display_data"
    }
   ],
   "source": [
    "f_1 <- 0\n",
    "f_2 <- 1\n",
    "\n",
    "for (i in 3:37)\n",
    "{\n",
    "    f_i <- f_1 + f_2\n",
    "    f_1 <- f_2\n",
    "    f_2 <- f_i\n",
    "}\n",
    "\n",
    "f_i"
   ]
  },
  {
   "cell_type": "markdown",
   "id": "eb8ca884-2da0-479e-ae9e-29a2b463b36a",
   "metadata": {},
   "source": [
    "## Some further examples \n",
    "\n",
    "In what follows we consider some further examples of using *for loops* to make calculations in the context of geometric series (mathematics) and present values (economics)."
   ]
  },
  {
   "cell_type": "markdown",
   "id": "086a6bb5-961b-4779-a3c6-44fefe25586a",
   "metadata": {},
   "source": [
    "### Evaluating geometric series\n",
    "\n",
    "In the lectures we have seen that the geometric series (sum of elements of geometric progressions) can be evaluated analytically based on the following:\n",
    "\n",
    ":::{admonition} Geometric series formula\n",
    "\n",
    "Consider a geometric progression with first element $A$ and common ratio $R$\n",
    "\n",
    "$$\n",
    "\\{A, AR, AR^2, AR^3, ...\\}\n",
    "$$\n",
    "\n",
    "The sum of the first $n$ elements of the geometric progression is given by\n",
    "\n",
    ":::{math}\n",
    ":label: geom-series\n",
    "A + AR + AR^2 + \\dots + AR^{n-1} = A\\frac{1-R^n}{1-R}\n",
    ":::\n",
    "\n",
    "In what follows we will instead give an example of how to evaluate such geometric series numerically by using loops instead.\n",
    "\n",
    ":::{note}\n",
    "Again, given that we have an exact analytical solution it is a poor practice to use loops because\n",
    "1. It is more difficult and computationally intensive than using the formula.\n",
    "2. The procedure using loops below induces further sources of numerical error than present if numerically evaluating based on the analytical solution.\n",
    "\n",
    "Nonetheless, we proceed with the recognition that this is intended as an example on using loops rather than a suggestion that you should use loops to evaluate geometric series.\n",
    ":::"
   ]
  },
  {
   "cell_type": "markdown",
   "id": "3fecb8f0-73f2-4564-9571-a9a257259f2b",
   "metadata": {},
   "source": [
    "Consider the geometric progression with first element $5$ and common ratio $1/2$\n",
    "\n",
    "$$\n",
    "\\left\\{5, 5\\times\\frac{1}{2}, 5\\times\\left(\\frac{1}{2}\\right)^2, 5\\times\\left(\\frac{1}{2}\\right)^3, ..., 5\\times\\left(\\frac{1}{2}\\right)^{14} \\right\\}\n",
    "$$\n",
    "\n",
    "from {ref}`section:loops:example2` above. Suppose that you want to find the sum of the first 15 elements of the progression.\n",
    "\n",
    "Note that you can find this directly by using {eq}`geom-series` above. Plugging the relevant values into the formula yields a value"
   ]
  },
  {
   "cell_type": "code",
   "execution_count": 11,
   "id": "d3a76719-88a1-4867-b405-4ca8b5933390",
   "metadata": {
    "vscode": {
     "languageId": "r"
    }
   },
   "outputs": [
    {
     "data": {
      "text/html": [
       "9.99969482421875"
      ],
      "text/latex": [
       "9.99969482421875"
      ],
      "text/markdown": [
       "9.99969482421875"
      ],
      "text/plain": [
       "[1] 9.999695"
      ]
     },
     "metadata": {},
     "output_type": "display_data"
    }
   ],
   "source": [
    "5*((1-(1/2)^15))/(1-1/2)"
   ]
  },
  {
   "cell_type": "markdown",
   "id": "1a14503a-6f01-4a4c-82a9-4736408f4f0d",
   "metadata": {},
   "source": [
    "However, we can obtain the same result with a loop as demonstrated by the code below. The idea is the following\n",
    "\n",
    "1. Initialize the initial value of the first element of the geometric progression `x<-5` and the sum of the geometric progression when using the first element only `sum<-x`\n",
    "\n",
    "2. Iterate 14 times (say from 2 to 15 so that the value of the index at a given iteration corresponds to the index of the element on the progression) and at each iteration set the value of `x` to the corresponding value iteratively (`x<-x*(1/2)`) and update the sum to include the new element (`sum<-sum+x`)\n",
    "\n",
    "This is done below"
   ]
  },
  {
   "cell_type": "code",
   "execution_count": 12,
   "id": "3a6040d8-9c01-4460-8725-1613a20d6398",
   "metadata": {
    "vscode": {
     "languageId": "r"
    }
   },
   "outputs": [],
   "source": [
    "x <- 5\n",
    "sum <- x\n",
    "\n",
    "for (i in 2:15)\n",
    "{\n",
    "    x <- x*(1/2)\n",
    "    sum <- sum + x \n",
    "}"
   ]
  },
  {
   "cell_type": "code",
   "execution_count": 13,
   "id": "dfd5aa03-d020-42f7-90a0-825450d9b475",
   "metadata": {
    "vscode": {
     "languageId": "r"
    }
   },
   "outputs": [
    {
     "data": {
      "text/html": [
       "9.99969482421875"
      ],
      "text/latex": [
       "9.99969482421875"
      ],
      "text/markdown": [
       "9.99969482421875"
      ],
      "text/plain": [
       "[1] 9.999695"
      ]
     },
     "metadata": {},
     "output_type": "display_data"
    }
   ],
   "source": [
    "sum"
   ]
  },
  {
   "cell_type": "markdown",
   "id": "a3898e82-f70c-40c9-806f-987bdfbfe99c",
   "metadata": {},
   "source": [
    "As you can see the value we obtain is exactly the same as by using the analytical expression for the value of the sum."
   ]
  },
  {
   "cell_type": "markdown",
   "id": "073e60e5-e3ee-4dfe-b30b-28ee49d24b33",
   "metadata": {},
   "source": [
    ":::{exercise} \n",
    ":label: bond-pricing\n",
    "\n",
    "Consider an annuity bond which pays £100 each year for 20 years with the first payment occurring today.\n",
    "\n",
    "The discount rate is 5%. \n",
    "\n",
    "Use a for loop to calculate the fair price of the bond.\n",
    "\n",
    ":::"
   ]
  },
  {
   "cell_type": "markdown",
   "id": "1473279e-f35d-44e9-8911-f7a5a6327cb6",
   "metadata": {},
   "source": [
    "::::{solution} bond-pricing\n",
    ":class: dropdown\n",
    "\n",
    "The fair price of the bond is simply the present value of all its payments\n",
    "\n",
    "$$\n",
    "100 + 100\\frac{1}{1.05} + 100\\left(\\frac{1}{1.05}\\right)^2 + ... + 100\\left(\\frac{1}{1.05}\\right)^{19}\n",
    "$$\n",
    "\n",
    "which is the sum of the first 20 elements of a geometric progression with first element $100$ and common ratio $1/2$. By tweaking the code for a geometric progression above we can obtain an answer as follows\n",
    "\n",
    ":::{code-block}\n",
    "x <- 100\n",
    "sum <- x\n",
    "\n",
    "for (i in 2:20)\n",
    "{\n",
    "    x <- x*(1/(1.05))\n",
    "    sum <- sum + x\n",
    "}\n",
    "sum\n",
    ":::\n",
    "\n",
    "which yields\n",
    ":::{code-block}\n",
    "1308.5320859667\n",
    ":::\n",
    "\n",
    "Note that this is the same as the value obtained if we use {eq}`geom-series` as \n",
    "\n",
    "$$\n",
    "100 + 100\\frac{1}{1.05} + 100\\left(\\frac{1}{1.05}\\right)^2 + ... + 100\\left(\\frac{1}{1.05}\\right)^{19} = 100\\frac{1-(1/1.05)^20}{1-(1/1.05)} = 1308.5320859667\n",
    "$$\n",
    "\n",
    "::::"
   ]
  },
  {
   "cell_type": "code",
   "execution_count": 14,
   "id": "2186fd42-5bb9-4bb7-9bec-5efbdaa7c6b0",
   "metadata": {
    "tags": [
     "remove-cell"
    ],
    "vscode": {
     "languageId": "r"
    }
   },
   "outputs": [
    {
     "data": {
      "text/html": [
       "1308.5320859667"
      ],
      "text/latex": [
       "1308.5320859667"
      ],
      "text/markdown": [
       "1308.5320859667"
      ],
      "text/plain": [
       "[1] 1308.532"
      ]
     },
     "metadata": {},
     "output_type": "display_data"
    }
   ],
   "source": [
    "x <- 100\n",
    "sum <- x\n",
    "\n",
    "for (i in 2:20)\n",
    "{\n",
    "    x <- x*(1/(1.05))\n",
    "    sum <- sum + x\n",
    "}\n",
    "sum"
   ]
  },
  {
   "cell_type": "code",
   "execution_count": 15,
   "id": "83843f31-326f-4852-9784-f1902865aaa6",
   "metadata": {
    "tags": [
     "remove-cell"
    ],
    "vscode": {
     "languageId": "r"
    }
   },
   "outputs": [
    {
     "data": {
      "text/html": [
       "1308.5320859667"
      ],
      "text/latex": [
       "1308.5320859667"
      ],
      "text/markdown": [
       "1308.5320859667"
      ],
      "text/plain": [
       "[1] 1308.532"
      ]
     },
     "metadata": {},
     "output_type": "display_data"
    }
   ],
   "source": [
    "100*(1-(1/1.05)^20)/(1-(1/1.05))"
   ]
  },
  {
   "cell_type": "markdown",
   "id": "2b68a35d-3eb9-467a-94d7-a3a4412d5e34",
   "metadata": {},
   "source": [
    "This completes the discussion of {ref}`chapter:loops`. We next turn attention to {ref}`chapter:3dplotting`."
   ]
  }
 ],
 "metadata": {
  "kernelspec": {
   "display_name": "R",
   "language": "R",
   "name": "ir"
  },
  "language_info": {
   "codemirror_mode": "r",
   "file_extension": ".r",
   "mimetype": "text/x-r-source",
   "name": "R",
   "pygments_lexer": "r",
   "version": "4.3.1"
  }
 },
 "nbformat": 4,
 "nbformat_minor": 5
}