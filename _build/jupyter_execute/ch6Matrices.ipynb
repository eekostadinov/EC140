{
 "cells": [
  {
   "cell_type": "markdown",
   "id": "6901011c-bfd9-43cf-b0d6-1b5f68d760ed",
   "metadata": {
    "tags": []
   },
   "source": [
    "(chapter:matrices)=\n",
    "\n",
    "# Linear algebra in R\n",
    "\n",
    "This chapter is a quick guide to working with matrices in R. Following the discussion you should be able to define and conduct basic operations with matrices.\n",
    "\n",
    "The best way to work through the chapter is to read the discussion and then reproduce all code in your own R/RStudio installation. You can do this by copying code from a notebook cell to your R script and run the code line by line.\n",
    "\n",
    "The chapter includes some exercises that allow you to test your understanding. It is recommended that you try these exercises on your own before choosing the option to reveal the solutions.\n"
   ]
  },
  {
   "cell_type": "code",
   "execution_count": 1,
   "id": "bee15b06-2558-4d36-9635-8586c0f85eb1",
   "metadata": {
    "tags": [
     "remove-cell"
    ],
    "vscode": {
     "languageId": "r"
    }
   },
   "outputs": [],
   "source": [
    "options(jupyter.display_mimetypes=\"application/javascript\")"
   ]
  },
  {
   "cell_type": "markdown",
   "id": "7e9f2f73-2a97-4792-a564-122d960f00ca",
   "metadata": {
    "tags": []
   },
   "source": [
    "## Defining a matrix\n",
    "\n",
    "To define a matrix use the `matrix()` function with usage\n",
    "\n",
    "```\n",
    "matrix(c(a1,a2,...,an), nrow=number, ncol=number,...)\n",
    "```\n",
    "\n",
    "which takes a vector of $n$ elements, `c(a1,a2,...,an)` and rearranges it into a `nrow`$\\times$`ncol` matrix. By default the elements of the vector are arranged into the matrix so that the first `nrow` elements comprise the first column of the matrix, the next `nrow` elements comprise the second column of the matrix, and so forth.\n",
    "\n",
    "For example, to define the $3\\times3$ matrix\n",
    "\n",
    "$$\n",
    "A= \\begin{bmatrix}\n",
    "1 & 2 & 3 \\\\\n",
    "4 & 5 & 6 \\\\\n",
    "7 & 8 & 9 \n",
    "\\end{bmatrix} \n",
    "$$\n",
    "\n",
    "type"
   ]
  },
  {
   "cell_type": "code",
   "execution_count": 2,
   "id": "7e902661-9ca5-47ca-b2f4-f8617c61cf5d",
   "metadata": {
    "tags": [],
    "vscode": {
     "languageId": "r"
    }
   },
   "outputs": [
    {
     "data": {
      "text/plain": [
       "     [,1] [,2] [,3]\n",
       "[1,] 1    2    3   \n",
       "[2,] 4    5    6   \n",
       "[3,] 7    8    9   "
      ]
     },
     "metadata": {},
     "output_type": "display_data"
    }
   ],
   "source": [
    "A <- matrix(c(1,4,7,2,5,8,3,6,9), nrow=3, ncol=3)\n",
    "A"
   ]
  },
  {
   "cell_type": "markdown",
   "id": "53c0d90b-1fcf-460e-a05e-bcc9c2f3b75d",
   "metadata": {},
   "source": [
    "::::{note}\n",
    "The number of rows and columns specified should be consistent with the number of elements (i.e. the number of elements of the vector `c(a1,a2,...,an)` should be exactly equal to `nrow`$\\times$`ncol`). Otherwise, R will return an error.\n",
    "\n",
    "For example, \n",
    ":::{code-block}\n",
    "N <- matrix(c(1,4,7,2,5,8,3,6,9), nrow=2, ncol=3)\n",
    ":::\n",
    "yields the error message\n",
    ":::{code-block}\n",
    "Warning message:\n",
    "In matrix(c(1, 4, 7, 2, 5, 8, 3, 6, 9), nrow = 2, ncol = 3) :\n",
    "  data length [9] is not a sub-multiple or multiple of the number of rows [2]\n",
    ":::\n",
    "because the number of elements given is 9, while we are trying to place them inside a $2\\times3$ matrix.\n",
    "::::"
   ]
  },
  {
   "cell_type": "markdown",
   "id": "25467bc6-3bff-46e3-9718-5e2d075ae91e",
   "metadata": {},
   "source": [
    "In fact, given the vector of elements, `c(a1,a2,...,an)`, it is sufficient \n",
    "- to only supply either the number of rows, `nrow`, (in which case the number of columns will be automatically deduced as equal to `length(c(a1,a2,...,an))/nrow`) \n",
    "- or to only supply the number of columns, `ncol`, (in which case the number of rows will be automatically deduced as equal to `length(c(a1,a2,...,an))/ncol`) \n",
    "\n",
    "For example,"
   ]
  },
  {
   "cell_type": "code",
   "execution_count": 3,
   "id": "092ebc0c-7bc7-4af8-a8c9-b2770c79ff09",
   "metadata": {
    "vscode": {
     "languageId": "r"
    }
   },
   "outputs": [
    {
     "data": {
      "text/plain": [
       "     [,1] [,2] [,3]\n",
       "[1,] 1    2    3   \n",
       "[2,] 4    5    6   \n",
       "[3,] 7    8    9   "
      ]
     },
     "metadata": {},
     "output_type": "display_data"
    }
   ],
   "source": [
    "A <- matrix(c(1,4,7,2,5,8,3,6,9), nrow=3)\n",
    "A"
   ]
  },
  {
   "cell_type": "markdown",
   "id": "5710672f-f9de-473d-9709-a45175e273bc",
   "metadata": {},
   "source": [
    "or"
   ]
  },
  {
   "cell_type": "code",
   "execution_count": 4,
   "id": "a172015f-5399-4aaf-8177-1aebcdb82a05",
   "metadata": {
    "vscode": {
     "languageId": "r"
    }
   },
   "outputs": [
    {
     "data": {
      "text/plain": [
       "     [,1] [,2] [,3]\n",
       "[1,] 1    2    3   \n",
       "[2,] 4    5    6   \n",
       "[3,] 7    8    9   "
      ]
     },
     "metadata": {},
     "output_type": "display_data"
    }
   ],
   "source": [
    "A <- matrix(c(1,4,7,2,5,8,3,6,9), ncol=3)\n",
    "A"
   ]
  },
  {
   "cell_type": "markdown",
   "id": "72aefb80-2c89-4fe7-8179-4575197317f2",
   "metadata": {},
   "source": [
    "::::{note}\n",
    "Again, the number of rows or columns specified should be consistent with the number of elements. \n",
    "\n",
    "For example\n",
    ":::{code-block}\n",
    "N <- matrix(c(1,4,7,2,5,8,3,6,9), nrow=4)\n",
    ":::\n",
    "yields and error message\n",
    ":::{code-block}\n",
    "Warning message:\n",
    "In matrix(c(1, 4, 7, 2, 5, 8, 3, 6, 9), nrow = 4) :\n",
    "  data length [9] is not a sub-multiple or multiple of the number of rows [4]\n",
    ":::\n",
    "as the number of elements in `c(1, 4, 7, 2, 5, 8, 3, 6, 9)` is not divisible by 4.\n",
    "::::"
   ]
  },
  {
   "cell_type": "markdown",
   "id": "7bf67a07-1779-4bba-a6c5-b5f9ad4e03e4",
   "metadata": {},
   "source": [
    "### Arranging the elements of the vector into a matrix by rows\n",
    "\n",
    "As seen above, by default, the elements of the vector passed to `matrix()` are arranged into a matrix column-wise. However, it may be more convenient for writing to arrange the elements row-wise. To do so use the optional argument `byrow=TRUE`. For example, the same matrix `A` as above can be equivalently defined by"
   ]
  },
  {
   "cell_type": "code",
   "execution_count": 5,
   "id": "4e0be7a4-6d93-4ff2-8987-44a8c42f55a9",
   "metadata": {
    "vscode": {
     "languageId": "r"
    }
   },
   "outputs": [
    {
     "data": {
      "text/plain": [
       "     [,1] [,2] [,3]\n",
       "[1,] 1    2    3   \n",
       "[2,] 4    5    6   \n",
       "[3,] 7    8    9   "
      ]
     },
     "metadata": {},
     "output_type": "display_data"
    }
   ],
   "source": [
    "## More convenient for writing\n",
    "\n",
    "A <- matrix(c(1,2,3,4,5,6,7,8,9), ncol=3, byrow=TRUE)\n",
    "A"
   ]
  },
  {
   "cell_type": "markdown",
   "id": "f11ad7f8-8578-4551-b083-1c48d406e168",
   "metadata": {},
   "source": [
    "This is often more convenient for inputting matrices because we can input our code on several lines to make us quickly visualize what matrix we are inputting. For example,"
   ]
  },
  {
   "cell_type": "code",
   "execution_count": 6,
   "id": "1b6b62a5-94a9-4334-9a9c-ec3174119e14",
   "metadata": {
    "vscode": {
     "languageId": "r"
    }
   },
   "outputs": [
    {
     "data": {
      "text/plain": [
       "     [,1] [,2] [,3]\n",
       "[1,] 1    2    3   \n",
       "[2,] 4    5    6   \n",
       "[3,] 7    8    9   "
      ]
     },
     "metadata": {},
     "output_type": "display_data"
    }
   ],
   "source": [
    "A <- matrix(c(1,2,3,\n",
    "              4,5,6,\n",
    "              7,8,9), ncol=3, byrow=TRUE)\n",
    "A"
   ]
  },
  {
   "cell_type": "markdown",
   "id": "1133b686-b6a6-4d9e-9d31-6ab5dff1cbaf",
   "metadata": {},
   "source": [
    "generates the same matrix but makes the code much more readable.\n",
    "\n",
    "For the purposes of readability, henceforth, this is how we will enter matrices in these notes."
   ]
  },
  {
   "cell_type": "markdown",
   "id": "8cd33473-8db3-458e-b3b1-42e1f00ee303",
   "metadata": {},
   "source": [
    "Now let's continue with another example of entering a matrix.\n",
    "\n",
    "### Example\n",
    "\n",
    "To define the $3\\times2$ matrix\n",
    "\n",
    "$$\n",
    "B= \\begin{bmatrix}\n",
    "7 & 2  \\\\\n",
    "3 & 8  \\\\\n",
    "1 & 9  \n",
    "\\end{bmatrix} \n",
    "$$\n",
    "\n",
    "type"
   ]
  },
  {
   "cell_type": "code",
   "execution_count": 7,
   "id": "867ce4c1-2f0e-4a16-adf3-f47fc083388e",
   "metadata": {
    "vscode": {
     "languageId": "r"
    }
   },
   "outputs": [
    {
     "data": {
      "text/plain": [
       "     [,1] [,2]\n",
       "[1,] 7    2   \n",
       "[2,] 3    8   \n",
       "[3,] 1    9   "
      ]
     },
     "metadata": {},
     "output_type": "display_data"
    }
   ],
   "source": [
    "B <- matrix(c(7,2,\n",
    "              3,8,\n",
    "              1,9), ncol=2, byrow=TRUE)\n",
    "B"
   ]
  },
  {
   "cell_type": "markdown",
   "id": "fd04a814-e0df-4278-b900-ac3dd381ceed",
   "metadata": {},
   "source": [
    ":::{exercise} \n",
    ":label: ex-defmat\n",
    "\n",
    "Define the matrix \n",
    "\n",
    "$$\n",
    "C= \\begin{bmatrix}\n",
    "7 & 2 & 5 & 12  \\\\\n",
    "3 & 8 & 8 & -3 \\\\\n",
    "1 & 9 & 7 &  0 \n",
    "\\end{bmatrix} \n",
    "$$\n",
    "\n",
    ":::"
   ]
  },
  {
   "cell_type": "markdown",
   "id": "b6fe1ae9-f786-4fe1-872e-8954130bfe98",
   "metadata": {},
   "source": [
    "::::{solution} ex-defmat\n",
    ":class: dropdown\n",
    "\n",
    "This can be done with the code\n",
    "\n",
    ":::{code-block}\n",
    "C <- matrix(c(7,2,5,12,\n",
    "              3,8,8,-3,\n",
    "              1,9,7, 0), ncol=4, byrow=TRUE)\n",
    ":::\n",
    "::::"
   ]
  },
  {
   "cell_type": "markdown",
   "id": "19c84be6-6e7f-4c92-a6f4-1559a2ddd47f",
   "metadata": {},
   "source": [
    "### Defining column and row vectors.\n",
    "\n",
    "Column and row vectors can be also specified by using the `matrix()` function, setting the number of columns and rows appropriately."
   ]
  },
  {
   "cell_type": "markdown",
   "id": "41dd88e7-ccc6-4f28-9f0d-688ba99e48a0",
   "metadata": {},
   "source": [
    "For example, to define the $1\\times9$ vector $a= \\begin{bmatrix}1,2,3,4,5,6,7,8,9\\end{bmatrix}$ type"
   ]
  },
  {
   "cell_type": "code",
   "execution_count": 8,
   "id": "dc87c91e-dcb8-4960-b7e8-273e2711ef90",
   "metadata": {
    "vscode": {
     "languageId": "r"
    }
   },
   "outputs": [
    {
     "data": {
      "text/plain": [
       "     [,1] [,2] [,3] [,4] [,5] [,6] [,7] [,8] [,9]\n",
       "[1,] 1    2    3    4    5    6    7    8    9   "
      ]
     },
     "metadata": {},
     "output_type": "display_data"
    }
   ],
   "source": [
    "a <- matrix(c(1,2,3,4,5,6,7,8,9), nrow=1)\n",
    "a"
   ]
  },
  {
   "cell_type": "markdown",
   "id": "37b45235-4c12-492a-97db-5356674cab0a",
   "metadata": {},
   "source": [
    "To instead define th $9\\times1$ vector $b= \\begin{bmatrix}1\\\\2\\\\3\\\\4\\end{bmatrix}$ type"
   ]
  },
  {
   "cell_type": "code",
   "execution_count": 9,
   "id": "9f3d94e0-f558-4f2a-b1b7-2171537a7a02",
   "metadata": {
    "vscode": {
     "languageId": "r"
    }
   },
   "outputs": [
    {
     "data": {
      "text/plain": [
       "     [,1]\n",
       "[1,] 1   \n",
       "[2,] 2   \n",
       "[3,] 3   \n",
       "[4,] 4   "
      ]
     },
     "metadata": {},
     "output_type": "display_data"
    }
   ],
   "source": [
    "b <- matrix(c(1,2,3,4), ncol=1)\n",
    "b"
   ]
  },
  {
   "cell_type": "markdown",
   "id": "82f063e0-53dc-4f57-81ac-0b90e7854706",
   "metadata": {},
   "source": [
    "A few more examples"
   ]
  },
  {
   "cell_type": "code",
   "execution_count": 10,
   "id": "0f9873f8-eb3b-49ed-9fa5-574534176c89",
   "metadata": {
    "vscode": {
     "languageId": "r"
    }
   },
   "outputs": [
    {
     "data": {
      "text/plain": [
       "     [,1] [,2] [,3] [,4]\n",
       "[1,] 3    7    1    2   "
      ]
     },
     "metadata": {},
     "output_type": "display_data"
    }
   ],
   "source": [
    "c <- matrix(c(3,7,1,2), ncol=4)\n",
    "c"
   ]
  },
  {
   "cell_type": "code",
   "execution_count": 11,
   "id": "efccbfc9-4152-491c-9309-d97779842894",
   "metadata": {
    "vscode": {
     "languageId": "r"
    }
   },
   "outputs": [
    {
     "data": {
      "text/plain": [
       "     [,1] [,2] [,3] [,4]\n",
       "[1,] 3    7    1    2   "
      ]
     },
     "metadata": {},
     "output_type": "display_data"
    }
   ],
   "source": [
    "d <- matrix(c(3,7,1,2), nrow=1)\n",
    "d"
   ]
  },
  {
   "cell_type": "markdown",
   "id": "885fab27-154a-4163-8818-4f8db9c37fa6",
   "metadata": {},
   "source": [
    "## Working with matrices\n",
    "\n",
    "### Checking the order of a matrix\n",
    "\n",
    "Given a matrix `A`, then `dim(A)` returns the order (or dimension) of the matrix. This can be used to query the order of a given matrix.\n",
    "\n",
    "For example,"
   ]
  },
  {
   "cell_type": "code",
   "execution_count": 12,
   "id": "52e648a0-8b89-4fd3-89a3-f69e8ada4a6f",
   "metadata": {
    "vscode": {
     "languageId": "r"
    }
   },
   "outputs": [
    {
     "data": {
      "text/plain": [
       "[1] 3 2"
      ]
     },
     "metadata": {},
     "output_type": "display_data"
    }
   ],
   "source": [
    "B <- matrix(c(7,2,\n",
    "              3,8,\n",
    "              1,9), ncol=2, byrow=TRUE)\n",
    "dim(B)"
   ]
  },
  {
   "cell_type": "markdown",
   "id": "de602bb3-4ce4-47b0-b6aa-23b1cca43dff",
   "metadata": {},
   "source": [
    "as the defined matrix `B` is of order $3\\times2$."
   ]
  },
  {
   "cell_type": "markdown",
   "id": "d1be50b2-1e18-4122-b776-5439a41c1e96",
   "metadata": {},
   "source": [
    "### Transpose of a matrix\n",
    "\n",
    "Given a matrix `A`, then `t(A)` returns the transpose of the matrix. \n",
    "\n",
    "For example, given "
   ]
  },
  {
   "cell_type": "code",
   "execution_count": 13,
   "id": "24609519-3b14-4868-aae1-d3f5a19736e9",
   "metadata": {
    "vscode": {
     "languageId": "r"
    }
   },
   "outputs": [
    {
     "data": {
      "text/plain": [
       "     [,1] [,2] [,3]\n",
       "[1,] 1    2    3   \n",
       "[2,] 4    5    6   \n",
       "[3,] 7    8    9   "
      ]
     },
     "metadata": {},
     "output_type": "display_data"
    }
   ],
   "source": [
    "A <- matrix(c(1,2,3,\n",
    "              4,5,6,\n",
    "              7,8,9), ncol=3, byrow=TRUE)\n",
    "A"
   ]
  },
  {
   "cell_type": "markdown",
   "id": "e93eff31-d8bd-4e24-850b-3243f9a2c380",
   "metadata": {},
   "source": [
    "then its transpose is returned by"
   ]
  },
  {
   "cell_type": "code",
   "execution_count": 14,
   "id": "554bda53-2558-4af4-aa3c-5a6b18131768",
   "metadata": {
    "vscode": {
     "languageId": "r"
    }
   },
   "outputs": [
    {
     "data": {
      "text/plain": [
       "     [,1] [,2] [,3]\n",
       "[1,] 1    4    7   \n",
       "[2,] 2    5    8   \n",
       "[3,] 3    6    9   "
      ]
     },
     "metadata": {},
     "output_type": "display_data"
    }
   ],
   "source": [
    "t(A)"
   ]
  },
  {
   "cell_type": "markdown",
   "id": "9c43d073-e899-4e16-adba-ca4bb9e51b20",
   "metadata": {},
   "source": [
    "As another example, "
   ]
  },
  {
   "cell_type": "code",
   "execution_count": 15,
   "id": "6ccc6eaf-aad9-4384-882d-30aa1c0cb714",
   "metadata": {
    "vscode": {
     "languageId": "r"
    }
   },
   "outputs": [
    {
     "data": {
      "text/plain": [
       "     [,1] [,2]\n",
       "[1,] 7    2   \n",
       "[2,] 3    8   \n",
       "[3,] 1    9   "
      ]
     },
     "metadata": {},
     "output_type": "display_data"
    }
   ],
   "source": [
    "B <- matrix(c(7,2,\n",
    "              3,8,\n",
    "              1,9), ncol=2, byrow=TRUE)\n",
    "B"
   ]
  },
  {
   "cell_type": "code",
   "execution_count": 16,
   "id": "7ceda6b9-98f2-4a79-839b-dfe6c38563c2",
   "metadata": {
    "vscode": {
     "languageId": "r"
    }
   },
   "outputs": [
    {
     "data": {
      "text/plain": [
       "     [,1] [,2] [,3]\n",
       "[1,] 7    3    1   \n",
       "[2,] 2    8    9   "
      ]
     },
     "metadata": {},
     "output_type": "display_data"
    }
   ],
   "source": [
    "t(B)"
   ]
  },
  {
   "cell_type": "markdown",
   "id": "2971dd33-d6c0-49fe-a8ac-3b87876b821f",
   "metadata": {},
   "source": [
    "### Matrix addition\n",
    "\n",
    "Given matrices `A` and `B` **of the same order**\n",
    "- their sum can be found by `A+B`\n",
    "- their difference can be found by `A-B`"
   ]
  },
  {
   "cell_type": "code",
   "execution_count": 17,
   "id": "704e7059-28dc-4004-ad47-ef4b47b4ca02",
   "metadata": {
    "vscode": {
     "languageId": "r"
    }
   },
   "outputs": [],
   "source": [
    "A <- matrix(c(7,2,\n",
    "              3,8,\n",
    "              1,9), ncol=2, byrow=TRUE)\n",
    "\n",
    "B <- matrix(c(1,3,\n",
    "              6,1,\n",
    "              2,3), ncol=2, byrow=TRUE)\n"
   ]
  },
  {
   "cell_type": "code",
   "execution_count": 18,
   "id": "63dd4ba5-d56e-4d29-9304-7b2f27c8bae9",
   "metadata": {
    "vscode": {
     "languageId": "r"
    }
   },
   "outputs": [
    {
     "data": {
      "text/plain": [
       "     [,1] [,2]\n",
       "[1,] 8     5  \n",
       "[2,] 9     9  \n",
       "[3,] 3    12  "
      ]
     },
     "metadata": {},
     "output_type": "display_data"
    }
   ],
   "source": [
    "A+B"
   ]
  },
  {
   "cell_type": "code",
   "execution_count": 19,
   "id": "a5caca2c-240a-4fa3-abc5-23c541fe9415",
   "metadata": {
    "vscode": {
     "languageId": "r"
    }
   },
   "outputs": [
    {
     "data": {
      "text/plain": [
       "     [,1] [,2]\n",
       "[1,]  6   -1  \n",
       "[2,] -3    7  \n",
       "[3,] -1    6  "
      ]
     },
     "metadata": {},
     "output_type": "display_data"
    }
   ],
   "source": [
    "A-B"
   ]
  },
  {
   "cell_type": "markdown",
   "id": "04c3bdb3-2269-4856-84af-443540e2d9aa",
   "metadata": {},
   "source": [
    "Note that if the matrices added/subtracted are not of the same order, R will return an error.\n",
    "\n",
    "For example, \n",
    "\n",
    ":::{code-block}\n",
    "A <- matrix(c(7,2,\n",
    "              3,8,\n",
    "              1,9), ncol=2, byrow=TRUE)\n",
    "C <- matrix(c(7,2,\n",
    "              3,8), ncol=2, byrow=TRUE)\n",
    ":::\n",
    "\n",
    "results in the error message `Error in A + C: non-conformable arrays`"
   ]
  },
  {
   "cell_type": "markdown",
   "id": "4905bc3a-2af8-4e81-92c8-a519c9f3df3b",
   "metadata": {},
   "source": [
    "::::{warning}\n",
    "Just like we can't add matrices of different orders, a matrix cannot be added to a scalar. For example, the expression\n",
    "\n",
    "$$\n",
    "\\begin{bmatrix}1 & 2\\\\3 & 4\\end{bmatrix} + 1 \n",
    "$$\n",
    "\n",
    "is mathematically meaningless. \n",
    "\n",
    "However, in R the sum of a matrix and scalar is defined. For example, the code\n",
    "\n",
    ":::{code-block}\n",
    "matrix(c(1,2,3,4),ncol=2,byrow=TRUE)+1\n",
    ":::\n",
    "\n",
    "yields the output\n",
    ":::{code-block}\n",
    "     [,1] [,2]\n",
    "[1,] 2    3   \n",
    "[2,] 4    5   \n",
    ":::\n",
    "\n",
    "so the sum of a matrix and a scalar is interpreted as the sum of the matrix with a matrix of the same order with all elements being equal to the scalar. In other words the code\n",
    ":::{code-block}\n",
    "matrix(c(1,2,3,4),ncol=2,byrow=TRUE)+1\n",
    ":::\n",
    "\n",
    "implements the mathematical operation\n",
    "\n",
    "$$\n",
    "\\begin{bmatrix}1 & 2\\\\3 & 4\\end{bmatrix} + \\begin{bmatrix}1 & 1\\\\1 & 1\\end{bmatrix} \n",
    "$$\n",
    "\n",
    "The reason this is allowed in R is that it allows a convenient shortcut for the above operation, but you should be careful to recognise that, mathematically, this is not a sum of a scalar and a matrix (which is not defined mathematically).\n",
    "\n",
    "::::"
   ]
  },
  {
   "cell_type": "markdown",
   "id": "e2178e63-87b0-49f6-966b-4de707bda54d",
   "metadata": {},
   "source": [
    "### Scalar multiplication of matrices.\n",
    "\n",
    "Given a matrix `A` and a scalar `b`, the product of `A` and `b` can be obtained as `A*b` or `b*A`. "
   ]
  },
  {
   "cell_type": "code",
   "execution_count": 20,
   "id": "3c6577e5-7642-4a8c-82d2-d68643b56e18",
   "metadata": {
    "vscode": {
     "languageId": "r"
    }
   },
   "outputs": [
    {
     "data": {
      "text/plain": [
       "     [,1] [,2]\n",
       "[1,] 7    2   \n",
       "[2,] 3    8   \n",
       "[3,] 1    9   "
      ]
     },
     "metadata": {},
     "output_type": "display_data"
    }
   ],
   "source": [
    "A <- matrix(c(7,2,\n",
    "              3,8,\n",
    "              1,9), ncol=2, byrow=TRUE)\n",
    "A"
   ]
  },
  {
   "cell_type": "code",
   "execution_count": 21,
   "id": "738b5d81-58e6-45fd-9b9d-817883248070",
   "metadata": {
    "vscode": {
     "languageId": "r"
    }
   },
   "outputs": [
    {
     "data": {
      "text/plain": [
       "     [,1] [,2]\n",
       "[1,] 14    4  \n",
       "[2,]  6   16  \n",
       "[3,]  2   18  "
      ]
     },
     "metadata": {},
     "output_type": "display_data"
    }
   ],
   "source": [
    "A*2"
   ]
  },
  {
   "cell_type": "markdown",
   "id": "08804a64-3d45-482c-a5bd-3a70e7a94854",
   "metadata": {},
   "source": [
    "### Matrix multiplication\n",
    "\n",
    "Given conformable matrices $A$ and $B$, implemented by `A` and `B`, the matrix product $A\\times B$ is obtained in R by `A %*% B`.\n",
    "\n",
    "Note that the multiplication sign should be enclosed in `%` signs for R to recognise that what we want is a matrix product.\n",
    "\n",
    "For example, consider the matrices\n",
    "\n",
    "$$\n",
    "A_{2\\times2}=\\begin{bmatrix}1&2\\\\3&4\\end{bmatrix} \\text{ and } B_{2\\times1}=\\begin{bmatrix}1\\\\2\\end{bmatrix} \n",
    "$$"
   ]
  },
  {
   "cell_type": "code",
   "execution_count": 22,
   "id": "67780487-e583-42bf-bd1c-93bced60665a",
   "metadata": {
    "vscode": {
     "languageId": "r"
    }
   },
   "outputs": [],
   "source": [
    "A <- matrix(c(1,2,\n",
    "              3,4), ncol=2, byrow=TRUE)\n",
    "B <- matrix(c(1,\n",
    "              2), ncol=1, byrow=TRUE)"
   ]
  },
  {
   "cell_type": "markdown",
   "id": "6e11c034-aa4f-4e5f-9f9a-0a16cb4f59a8",
   "metadata": {},
   "source": [
    "Then $A\\times B$ exists and can be found in R by typing"
   ]
  },
  {
   "cell_type": "code",
   "execution_count": 23,
   "id": "b0540b85-5da0-4a5a-a5ac-acdd91fb8dc7",
   "metadata": {
    "vscode": {
     "languageId": "r"
    }
   },
   "outputs": [
    {
     "data": {
      "text/plain": [
       "     [,1]\n",
       "[1,]  5  \n",
       "[2,] 11  "
      ]
     },
     "metadata": {},
     "output_type": "display_data"
    }
   ],
   "source": [
    "A%*%B\n"
   ]
  },
  {
   "cell_type": "markdown",
   "id": "b4724d55-e9f4-46ab-b288-fef616c71baa",
   "metadata": {},
   "source": [
    "This is mathematically correct because, indeed, you can easily verify that\n",
    "\n",
    "$$\n",
    "\\begin{bmatrix}1&2\\\\3&4\\end{bmatrix}\\times \\begin{bmatrix}1\\\\2\\end{bmatrix}= \\begin{bmatrix}5\\\\11\\end{bmatrix}\n",
    "$$"
   ]
  },
  {
   "cell_type": "markdown",
   "id": "7dd216e7-01c5-4b96-bfd9-7a50c9e349de",
   "metadata": {},
   "source": [
    "On the other hand, given $A$ and $B$ above, the matrix product $B\\times A$ does not exist because the number of columns of $B$ is different from the number of rows of $A$. If we type \n",
    "\n",
    ":::{code-block}\n",
    "B%*%A\n",
    ":::\n",
    "\n",
    "we unsurprisingly get the error message `Error in B %*% A: non-conformable arrays`.\n",
    "\n"
   ]
  },
  {
   "cell_type": "markdown",
   "id": "44429c17-7479-4e77-ab4d-7d0b98be04dd",
   "metadata": {},
   "source": [
    "::::{warning}\n",
    "In R you should be extra careful to use `%*%` rather than `*` for matrix multiplication because\n",
    "- the operator `%*%` correctly implements matrix multiplication\n",
    "- while the operator `*` is also defined for matrices but implements **pointwise multiplication** which is a useful operation but distinct from matrix multiplication. \n",
    "\n",
    "For example consider the matrices $A=\\begin{bmatrix}1&1\\\\1&1\\end{bmatrix}$ and $B=\\begin{bmatrix}1&1\\\\1&1\\end{bmatrix}$, which can be defined in R by the code\n",
    "\n",
    ":::{code-block}\n",
    "A=matrix(c(1,1,1,1),ncol=2)\n",
    "B=matrix(c(1,1,1,1),ncol=2)\n",
    ":::\n",
    "\n",
    "Mathematically, the matrix product $A\\times B$ is defined as\n",
    "\n",
    "$$\n",
    "A\\times B = \\begin{bmatrix}1&1\\\\1&1\\end{bmatrix}\\times\\begin{bmatrix}1&1\\\\1&1\\end{bmatrix}=\\begin{bmatrix}1\\times1 + 1\\times1& 1\\times1 + 1\\times1\\\\ 1\\times1 + 1\\times1 &1\\times1 + 1\\times1\\end{bmatrix}=\\begin{bmatrix}2&2\\\\2&2\\end{bmatrix}\n",
    "$$\n",
    "\n",
    "We can conduct this operation consistently in R by typing \n",
    "\n",
    ":::{code-block}\n",
    "A %*% B\n",
    ":::\n",
    "\n",
    "yielding the output\n",
    "\n",
    ":::{code-block}\n",
    "     [,1] [,2]\n",
    "[1,] 2    2   \n",
    "[2,] 2    2   \n",
    ":::\n",
    "\n",
    "On the other hand, the pointwise multiple of two matrices of the same order is defined as a matrix of the same order where each element is obtained as the product of the corresponding elements of the two original matrices. For example, if we have $A$ and $B$ defined as above, their pointwise multiple is the matrix \n",
    "\n",
    "$$\n",
    "\\begin{bmatrix}1\\times1&1\\times1\\\\1\\times1&1\\times1\\end{bmatrix}=\\begin{bmatrix}1&1\\\\1&1\\end{bmatrix}\n",
    "$$\n",
    "\n",
    "In R the operator `*` implements pointwise multiplication. So given `A` and `B` above, typing\n",
    "\n",
    ":::{code-block}\n",
    "A * B\n",
    ":::\n",
    "\n",
    "yields the output\n",
    "\n",
    ":::{code-block}\n",
    "     [,1] [,2]\n",
    "[1,] 1    1   \n",
    "[2,] 1    1   \n",
    ":::\n",
    "\n",
    "You should be extra careful to use the correct operator `%*%` for matrix multiplication!\n",
    "\n",
    "::::"
   ]
  },
  {
   "cell_type": "markdown",
   "id": "a413f297-07c5-4da2-8db1-cabf520fec1f",
   "metadata": {},
   "source": [
    "#### Another example\n",
    "\n",
    "Consider the matrices $A$ and $B$ defined below"
   ]
  },
  {
   "cell_type": "code",
   "execution_count": 24,
   "id": "aa3eadcd-5413-4252-b1c7-75dbee4b114f",
   "metadata": {
    "vscode": {
     "languageId": "r"
    }
   },
   "outputs": [],
   "source": [
    "A <- matrix(c(13,23,32,78,\n",
    "              24,15,76,15,\n",
    "              76,88,19,34), ncol=4, byrow=TRUE)\n",
    "\n",
    "B <- matrix(c(17,65,72,\n",
    "              42,56,12,\n",
    "              81,0 ,13,\n",
    "              21,18,35), ncol=3, byrow=TRUE)"
   ]
  },
  {
   "cell_type": "markdown",
   "id": "f6f9ba13-340a-443c-ac24-f14c93f074c7",
   "metadata": {},
   "source": [
    "Their product $A\\times B$ is cumbersome to calculate by hand but can be easily found using R"
   ]
  },
  {
   "cell_type": "code",
   "execution_count": 25,
   "id": "d1eb9627-2dcf-488c-b5f4-33e39ccba970",
   "metadata": {
    "vscode": {
     "languageId": "r"
    }
   },
   "outputs": [
    {
     "data": {
      "text/plain": [
       "     [,1] [,2]  [,3]\n",
       "[1,] 5417  3537 4358\n",
       "[2,] 7509  2670 3421\n",
       "[3,] 7241 10480 7965"
      ]
     },
     "metadata": {},
     "output_type": "display_data"
    }
   ],
   "source": [
    "A%*%B"
   ]
  },
  {
   "cell_type": "markdown",
   "id": "3e908131-32d9-4dde-b85a-b02cd932ba1b",
   "metadata": {},
   "source": [
    "By **correctly** using R we can easily calculate arbitrarily complex arithmetic expressions involving matrices.\n",
    "\n",
    "For example, given \n",
    "\n",
    "$$\n",
    "A = \\begin{bmatrix} 1&5&7\\\\2&-3&-5\\\\5&-9&1 \\end{bmatrix} \\text{ and } B = \\begin{bmatrix} 4&1&8\\\\-2&6&-12\\\\2&13&0 \\end{bmatrix}\n",
    "$$\n",
    "\n",
    "we can easily calculate something like \n",
    "\n",
    "$$\n",
    "(A\\times B)^T + (B\\times A) - A \n",
    "$$\n",
    "\n",
    "by simply typing"
   ]
  },
  {
   "cell_type": "code",
   "execution_count": 26,
   "id": "5520606b-242d-481b-921e-b228ed45c9c0",
   "metadata": {
    "vscode": {
     "languageId": "r"
    }
   },
   "outputs": [
    {
     "data": {
      "text/plain": [
       "     [,1] [,2] [,3]\n",
       "[1,]  53  -56   64 \n",
       "[2,]  70    2  -87 \n",
       "[3,] -29   32   96 "
      ]
     },
     "metadata": {},
     "output_type": "display_data"
    }
   ],
   "source": [
    "A = matrix(c(1,5,7,\n",
    "             2,-3,-5,\n",
    "             5,-9,1), ncol=3, byrow=TRUE)\n",
    "\n",
    "B = matrix(c(4,1,8,\n",
    "             -2,6,-12,\n",
    "             2,13,0), ncol=3, byrow=TRUE)\n",
    "\n",
    "t(A%*%B) + (B%*%A) - A"
   ]
  },
  {
   "cell_type": "markdown",
   "id": "bc28f71a-b613-48e2-ae49-d2463104825c",
   "metadata": {},
   "source": [
    ":::{exercise} \n",
    ":label: ex-matoper\n",
    "\n",
    "Consider the matrices \n",
    "\n",
    "$$\n",
    "A = \\begin{bmatrix} 1&5&8\\\\2&-3&-5\\end{bmatrix} \\text{ and } B = \\begin{bmatrix} 4&1&8\\\\-2&6&-12\\\\2&13&0 \\end{bmatrix}\n",
    "$$\n",
    "\n",
    "Use R to evaluate \n",
    "\n",
    "$$\n",
    "(A\\times B)^T + B\\times A^T - A^T\n",
    "$$\n",
    "\n",
    ":::"
   ]
  },
  {
   "cell_type": "markdown",
   "id": "e9e6f15a-a4e0-4966-b77e-f8ebf6166a71",
   "metadata": {},
   "source": [
    "::::{solution} ex-matoper\n",
    ":class: dropdown\n",
    "\n",
    "The following code evaluates the expression\n",
    "\n",
    ":::{code-block}\n",
    "A = matrix(c(1,5,8,\n",
    "             2,-3,-5), ncol=3, byrow=TRUE)\n",
    "\n",
    "B = matrix(c(4,1,8,\n",
    "             -2,6,-12,\n",
    "             2,13,0), ncol=3, byrow=TRUE)\n",
    "\n",
    "t(A%*%B) + B%*%t(A) - t(A)\n",
    ":::\n",
    "::::"
   ]
  },
  {
   "cell_type": "markdown",
   "id": "6ec186fd-487a-4191-87e5-bd7848637e6d",
   "metadata": {},
   "source": [
    "## Matrices and systems of linear equations"
   ]
  },
  {
   "cell_type": "markdown",
   "id": "1560195f-dfee-4739-9792-dea2c4a55102",
   "metadata": {},
   "source": [
    "### Determinant of a matrix\n",
    "\n",
    "A determinant of a matrix can be calculated in R using the `det()` function. \n",
    "\n",
    "Given a square matrix $A$, its determinant is found by typing `det(A)`."
   ]
  },
  {
   "cell_type": "code",
   "execution_count": 27,
   "id": "2f643075-3679-4b5e-8adf-f87b0b0fa8dd",
   "metadata": {
    "vscode": {
     "languageId": "r"
    }
   },
   "outputs": [
    {
     "data": {
      "text/plain": [
       "[1] -2"
      ]
     },
     "metadata": {},
     "output_type": "display_data"
    }
   ],
   "source": [
    "A <- matrix(c(1,2,\n",
    "              3,4), ncol=2, byrow=TRUE)\n",
    "det(A)"
   ]
  },
  {
   "cell_type": "code",
   "execution_count": 28,
   "id": "2f45dbc8-e5fd-4f1f-827d-b1177acb2b90",
   "metadata": {
    "vscode": {
     "languageId": "r"
    }
   },
   "outputs": [
    {
     "data": {
      "text/plain": [
       "[1] -286526"
      ]
     },
     "metadata": {},
     "output_type": "display_data"
    }
   ],
   "source": [
    "B <- matrix(c(17,65,72,\n",
    "              42,56,12,\n",
    "              81,0 ,13), ncol=3, byrow=TRUE)\n",
    "det(B)"
   ]
  },
  {
   "cell_type": "markdown",
   "id": "5a6b5ca8-8cfd-4b1c-89b1-90ee03bb2e62",
   "metadata": {},
   "source": [
    "Notice that a determinant of a matrix is mathematically defined only for square matrices, and this is also the case computationally. For example, the code\n",
    "\n",
    ":::{code-block}\n",
    "C <- matrix(c(1,3,\n",
    "              6,1,\n",
    "              2,3), ncol=2, byrow=TRUE)\n",
    "det(C)\n",
    ":::\n",
    "\n",
    "returns the error `Error in determinant.matrix(x, logarithm = TRUE, ...): 'x' must be a square matrix` because the matrix `C` is not square matrix and has no determinant."
   ]
  },
  {
   "cell_type": "markdown",
   "id": "4941ea3a-dd59-47ca-9c88-77d3a6b62fba",
   "metadata": {},
   "source": [
    "### (Optional) Systems of linear equations\n",
    "\n",
    "Consider a system of $n$ linear equations in $n$ unknowns written in matrix form as \n",
    "\n",
    "$$\n",
    "Ax=b\n",
    "$$\n",
    "\n",
    "where\n",
    "- $A$ is an $n\\times n$ matrix of coefficients\n",
    "- $x$ is an $n\\times1$ vector of unknowns\n",
    "- $b$ is an $n\\times1$ vector of coefficients\n",
    "\n",
    "Suppose that $det(A)\\neq0$ so the system has a unique solution.\n",
    "\n",
    "In the lectures we have seen one method (*Cramer's rule*) of obtaining the solution to the system by using matrix algebra. \n",
    "\n",
    "Another well known method, which we have not discussed in the lecture, is one based on the notion of an **inverse of a function**. While implementing this method by hand is much more cumbersome than Cramer's rule, it is very easy to implement computationally. In what follows we define the notion of an inverse and explain how to use it to solve arbitrarily complex systems of linear equations computationally.\n",
    "\n",
    ":::{note}\n",
    "The mathematical material in this section goes beyond the core material for the module. Do not worry if you find the discussion difficult to follow, and feel free to omit it if this is the case.\n",
    ":::\n",
    "\n",
    "#### Inverse of a matrix"
   ]
  },
  {
   "cell_type": "markdown",
   "id": "f95467a9-ea56-4f35-b428-f8e6bc39f6f7",
   "metadata": {},
   "source": [
    "First some mathematics.\n",
    "\n",
    ":::{admonition} (Definition) Identity matrix\n",
    ":class: hint\n",
    "\n",
    "An **identity matrix** of order $n\\times n$, commonly denoted $I_{n\\times n}$, is a square matrix of order $n\\times n$ with all diagonal elements equal to 1 and all off-diagonal elements equal to zero. \n",
    ":::\n",
    "\n",
    "For example,\n",
    "\n",
    "- the $2\\times2$ identity matrix is \n",
    "\n",
    "$$\n",
    "I_{2\\times2}=\\begin{bmatrix}1&0\\\\0&1 \\end{bmatrix}\n",
    "$$\n",
    "\n",
    "- the $3\\times3$ identity matrix is \n",
    "\n",
    "$$\n",
    "I_{3\\times3}=\\begin{bmatrix}1&0&0\\\\0&1&0\\\\0&0&1 \\end{bmatrix}\n",
    "$$\n",
    "\n",
    "- and so forth.\n",
    "\n",
    ":::{admonition} Property of identity matrix\n",
    ":class: hint\n",
    "\n",
    "Given a **square** matrix $A_{n\\times n}$ or order $n\\times n$, and the identity matrix $I_{n\\times n}$ or order $n\\times n$ then \n",
    "\n",
    "$$\n",
    "A_{n\\times n}\\times I_{n\\times n} = I_{n\\times n}\\times A_{n\\times n} = A_{n\\times n}  \n",
    "$$\n",
    "\n",
    "In words, multiplying a square matrix $A$ by the identity matrix of the same order always yields the original matrix $A$. You can think that in the context of matrix multiplication the identity matrix has the same property as the number 1 has in the context of multiplying numbers.\n",
    "\n",
    "Similarly, given an $n\\times1$ column vector $a_{n\\times1}$, and the identity matrix $I_{n\\times n}$ or order $n\\times n$ then \n",
    "\n",
    "$$\n",
    "I_{n\\times n}\\times a_{n\\times 1} = a_{n\\times n}  \n",
    "$$\n",
    "\n",
    "In words, multiplying a vector $a$ by the comformable identity matrix always yields the original vector $a$. Again, you can think that in the context of matrix multiplication the identity matrix has the same property as the number 1 has in the context of multiplying numbers.\n",
    "\n",
    "\n",
    ":::\n",
    "\n",
    "For example, it is easy to verify that\n",
    "\n",
    "$$\n",
    "\\begin{bmatrix}1&0\\\\0&1 \\end{bmatrix} \\times \\begin{bmatrix}7&3\\\\1&2 \\end{bmatrix} = \\begin{bmatrix}7&3\\\\1&2 \\end{bmatrix}\\times \\begin{bmatrix}1&0\\\\0&1 \\end{bmatrix} = \\begin{bmatrix}7&3\\\\1&2 \\end{bmatrix}\n",
    "$$\n",
    "\n",
    "\n",
    "or \n",
    "\n",
    "\n",
    "$$\n",
    "\\begin{bmatrix}1&0&0\\\\0&1&0\\\\0&0&1 \\end{bmatrix} \\times \\begin{bmatrix}5&4&2\\\\-3&2&7\\\\0&-1&4 \\end{bmatrix} = \\begin{bmatrix}5&4&2\\\\-3&2&7\\\\0&-1&4 \\end{bmatrix} \\times \\begin{bmatrix}1&0&0\\\\0&1&0\\\\0&0&1 \\end{bmatrix} =\n",
    "\\begin{bmatrix}5&4&2\\\\-3&2&7\\\\0&-1&4 \\end{bmatrix}\n",
    "$$\n",
    "\n",
    "and so forth.\n",
    "\n",
    ":::{admonition} (Definition) Inverse of a matrix\n",
    ":class: hint\n",
    "\n",
    "Given a **square** matrix $A$ or order $n\\times n$, the **inverse matrix** of $A$ is another $n\\times n$ matrix, commonly denoted by $A^{-1}$, such that \n",
    "\n",
    "$$\n",
    "A^{-1}\\times A = A\\times A^{-1} = I_{n\\times n} \n",
    "$$ \n",
    "\n",
    "In words, the product of a matrix and its inverse is the identity matrix. \n",
    ":::\n",
    "\n",
    "For example, we can easily verify that the inverse of the matrix $A=\\begin{bmatrix}1&2\\\\3&4 \\end{bmatrix} $ is the matrix $A^{-1}=\\begin{bmatrix}-2&1\\\\1.5&-0.5 \\end{bmatrix} $ because\n",
    "\n",
    "$$\n",
    "\\begin{bmatrix}-2&1\\\\1.5&-0.5 \\end{bmatrix} \\times \\begin{bmatrix}1&2\\\\3&4 \\end{bmatrix}= \\begin{bmatrix}1&2\\\\3&4 \\end{bmatrix}\\times \\begin{bmatrix}-2&1\\\\1.5&-0.5 \\end{bmatrix} = \\begin{bmatrix}1&0\\\\0&1 \\end{bmatrix}\n",
    "$$\n",
    "\n",
    ":::{admonition} Inverses and determinants\n",
    ":class: hint\n",
    "\n",
    "For reasons beyond the scope of this discussion, it turns out that a square matrix $A$ has an inverse if and only if $det(A)\\neq0$.\n",
    ":::\n",
    "\n",
    "Now back to R. While there are procedures for obtaining the inverse of a matrix by hand, these are typically quite cumbersome for matrices of order higher than $2\\times2$. On the other hand, they are very easy to find computationally. In R, the inverse of a matrix `A` can be found by `solve(A)`.  For example, given the matrix $A$ above"
   ]
  },
  {
   "cell_type": "code",
   "execution_count": 29,
   "id": "629e29b4-7671-4ea8-8ecd-761360daff8d",
   "metadata": {
    "vscode": {
     "languageId": "r"
    }
   },
   "outputs": [],
   "source": [
    "A <- matrix(c(1,2,\n",
    "              3,4), ncol=2, byrow=TRUE)"
   ]
  },
  {
   "cell_type": "code",
   "execution_count": 30,
   "id": "91d1836b-30ff-47c6-a653-f317f2abc588",
   "metadata": {
    "vscode": {
     "languageId": "r"
    }
   },
   "outputs": [
    {
     "data": {
      "text/plain": [
       "     [,1] [,2]\n",
       "[1,] -2.0  1.0\n",
       "[2,]  1.5 -0.5"
      ]
     },
     "metadata": {},
     "output_type": "display_data"
    }
   ],
   "source": [
    "solve(A)"
   ]
  },
  {
   "cell_type": "markdown",
   "id": "82f919b1-8d09-4ff9-b709-a42894a0125b",
   "metadata": {},
   "source": [
    "But also for much more complicated matrices"
   ]
  },
  {
   "cell_type": "code",
   "execution_count": 31,
   "id": "45b3eb56-6289-4d90-84eb-0069b5f88a42",
   "metadata": {
    "vscode": {
     "languageId": "r"
    }
   },
   "outputs": [
    {
     "data": {
      "text/plain": [
       "     [,1]        [,2]         [,3]          [,4]         [,5]       \n",
       "[1,] -0.06555317  0.015105056  0.0169165843 -0.013068083  0.04640397\n",
       "[2,]  0.03326893 -0.008685351 -0.0016609482  0.015518808 -0.04306862\n",
       "[3,] -0.01924799  0.018045231 -0.0043228707  0.006412682 -0.00228883\n",
       "[4,]  0.05705412 -0.005707990 -0.0008036537 -0.003578446 -0.03725134\n",
       "[5,] -0.16033034 -0.010871654  0.0009654094 -0.008973683  0.20951104"
      ]
     },
     "metadata": {},
     "output_type": "display_data"
    }
   ],
   "source": [
    "B <- matrix(c(13,23,32,72,15,\n",
    "              24,15,76,81,13,\n",
    "              76,88,19,93,18,\n",
    "              27,94,62,73,27,\n",
    "              12,22,31,62,18), ncol=5, byrow=TRUE)\n",
    "solve(B)"
   ]
  },
  {
   "cell_type": "markdown",
   "id": "9b2157a9-b6b0-4fd9-b3dc-9217f27df72f",
   "metadata": {
    "tags": []
   },
   "source": [
    "### (Optional) Solving systems of linear equations\n",
    "\n",
    ":::{admonition} Solving systems of equations using inverse matrices\n",
    ":class: tip\n",
    "\n",
    "\n",
    "Consider again a general system of $n$ linear equations in $n$ unknowns written in matrix form as \n",
    "\n",
    "$$\n",
    "Ax=b\n",
    "$$\n",
    "\n",
    "with $det(A)\\neq0$. \n",
    "\n",
    "Since $det(A)\\neq0$, then the inverse of $A$, say $A^{-1}$ exists. \n",
    "\n",
    "Now, pre-multiply both sides of the matrix equation by $A^{-1}$\n",
    "\n",
    "$$\n",
    "A^{-1}Ax=A^{-1}b\n",
    "$$\n",
    "\n",
    "Note that by the definition of an inverse of a matrix, $A^{-1}A=I$ so we have \n",
    "\n",
    "$$\n",
    "Ix=A^{-1}b\n",
    "$$\n",
    "\n",
    "Further, by the proprerty of identity matrices $Ix = x$  so we have\n",
    "\n",
    "$$\n",
    "x=A^{-1}b\n",
    "$$\n",
    "\n",
    "In other words, given the system of linear equations in matrix form $Ax=b$, the solution can be found simply as \n",
    "\n",
    "$$\n",
    "x=A^{-1}b\n",
    "$$\n",
    "\n",
    "This allows a very simple method to computationally solve the system.\n",
    ":::"
   ]
  },
  {
   "cell_type": "markdown",
   "id": "2419be26-f48a-4247-8a5d-35d1a9410845",
   "metadata": {},
   "source": [
    "For example, consider the system of equations $Ax=b$ where\n",
    "\n",
    "$$\n",
    "A = \\begin{bmatrix}1&2\\\\3&4\\end{bmatrix},\\quad x = \\begin{bmatrix}x_1\\\\x_2\\end{bmatrix}, \\quad b = \\begin{bmatrix}3\\\\7\\end{bmatrix}\n",
    "$$"
   ]
  },
  {
   "cell_type": "markdown",
   "id": "259e57da-3b19-431f-b8bb-893667f00276",
   "metadata": {},
   "source": [
    "To obtain the solution for $x = \\begin{bmatrix}x_1\\\\x_2\\end{bmatrix}$ in R simply type"
   ]
  },
  {
   "cell_type": "code",
   "execution_count": 32,
   "id": "750b1557-990b-4f71-8ddd-9a4031d994a3",
   "metadata": {
    "vscode": {
     "languageId": "r"
    }
   },
   "outputs": [
    {
     "data": {
      "text/plain": [
       "     [,1]\n",
       "[1,] 1   \n",
       "[2,] 1   "
      ]
     },
     "metadata": {},
     "output_type": "display_data"
    }
   ],
   "source": [
    "A <- matrix(c(1,2,\n",
    "              3,4), ncol=2, byrow=TRUE)\n",
    "\n",
    "b <- matrix(c(3,\n",
    "              7), ncol=1)\n",
    "\n",
    "x <- solve(A)%*%b\n",
    "x"
   ]
  },
  {
   "cell_type": "markdown",
   "id": "c040e2ab-9edd-4343-8917-e8630ceb5c15",
   "metadata": {},
   "source": [
    "So the solution to the system is simply $x = \\begin{bmatrix}1\\\\1\\end{bmatrix}$"
   ]
  },
  {
   "cell_type": "markdown",
   "id": "8a7c5808-b50f-4cca-9e67-91430a81435f",
   "metadata": {},
   "source": [
    "Of course, the usefulness of using numerical methods is especially relevant when we have more difficult systems.\n",
    "\n",
    "For example, consider the system  $Ax=b$ where\n",
    "\n",
    "$$\n",
    "A = \\begin{bmatrix}\n",
    "              13&23&32&72&15\\\\\n",
    "              24&15&76&81&13\\\\\n",
    "              76&88&19&93&18\\\\\n",
    "              27&94&62&73&27\\\\\n",
    "              12&22&31&62&18\n",
    "              \\end{bmatrix},\\quad \n",
    "              x = \\begin{bmatrix}\n",
    "                  x_1\\\\\n",
    "                  x_2\\\\\n",
    "                  x_3\\\\\n",
    "                  x_4\\\\\n",
    "                  x_5\n",
    "                  \\end{bmatrix}, \\quad b = \\begin{bmatrix}\n",
    "                  12\\\\\n",
    "                  31\\\\\n",
    "                  91\\\\\n",
    "                  17\\\\\n",
    "                  12\n",
    "                  \\end{bmatrix}\n",
    "$$\n",
    "\n",
    "which is extremely cumbersome to solve by hand.\n",
    "\n",
    "First define the matrices in R and note that the determinant of $A$ is not zero, so $A$ is invertible."
   ]
  },
  {
   "cell_type": "code",
   "execution_count": 33,
   "id": "fe738ecc-6995-460e-ad9f-d3a67ca07ae0",
   "metadata": {
    "vscode": {
     "languageId": "r"
    }
   },
   "outputs": [
    {
     "data": {
      "text/plain": [
       "[1] -64782877"
      ]
     },
     "metadata": {},
     "output_type": "display_data"
    }
   ],
   "source": [
    "A <- matrix(c(13,23,32,72,15,\n",
    "              24,15,76,81,13,\n",
    "              76,88,19,93,18,\n",
    "              27,94,62,73,27,\n",
    "              12,22,31,62,18), ncol=5, byrow=TRUE)\n",
    "\n",
    "b <- matrix(c(12,\n",
    "              31,\n",
    "              91,\n",
    "              17,\n",
    "              12), ncol=1)\n",
    "\n",
    "det(A)"
   ]
  },
  {
   "cell_type": "markdown",
   "id": "0aa39ad0-ab83-4a6e-81c5-02995e9e4b61",
   "metadata": {},
   "source": [
    "Next simply construct the solution as the product of the inverse of $A$ times $b$"
   ]
  },
  {
   "cell_type": "code",
   "execution_count": 34,
   "id": "8492355e-7849-461d-bb0e-1db0065f842e",
   "metadata": {
    "vscode": {
     "languageId": "r"
    }
   },
   "outputs": [
    {
     "data": {
      "text/plain": [
       "     [,1]       \n",
       "[1,]  1.55571816\n",
       "[2,] -0.27416868\n",
       "[3,]  0.01659472\n",
       "[4,] -0.07328040\n",
       "[5,]  0.18844674"
      ]
     },
     "metadata": {},
     "output_type": "display_data"
    }
   ],
   "source": [
    "x_sol <- solve(A)%*%b\n",
    "x_sol"
   ]
  },
  {
   "cell_type": "markdown",
   "id": "8182dd7a-1425-4c91-b794-b050220e47de",
   "metadata": {},
   "source": [
    "So the solution of the system is\n",
    "\n",
    "$$\n",
    "x=\\begin{bmatrix}\n",
    "                  x_1\\\\\n",
    "                  x_2\\\\\n",
    "                  x_3\\\\\n",
    "                  x_4\\\\\n",
    "                  x_5\n",
    "\\end{bmatrix} =\n",
    "\\begin{bmatrix}\n",
    "                  1.556\\\\\n",
    "                  -0.274\\\\\n",
    "                  0.017\\\\\n",
    "                  -0.073\\\\\n",
    "                  0.188\n",
    "\\end{bmatrix}\n",
    "$$"
   ]
  },
  {
   "cell_type": "markdown",
   "id": "e456dbcc-233a-4b0f-949e-adc7f924d055",
   "metadata": {},
   "source": [
    "In this simple way we can solve arbitrarily complex systems of linear equations."
   ]
  },
  {
   "cell_type": "markdown",
   "id": "43837219-e29b-4b6f-b1ea-3a9eb1f70201",
   "metadata": {},
   "source": [
    "This completes the discussion of {ref}`chapter:matrices`. We next turn attention to numerical integration in R."
   ]
  }
 ],
 "metadata": {
  "kernelspec": {
   "display_name": "R",
   "language": "R",
   "name": "ir"
  },
  "language_info": {
   "codemirror_mode": "r",
   "file_extension": ".r",
   "mimetype": "text/x-r-source",
   "name": "R",
   "pygments_lexer": "r",
   "version": "4.3.1"
  },
  "toc-autonumbering": true
 },
 "nbformat": 4,
 "nbformat_minor": 5
}