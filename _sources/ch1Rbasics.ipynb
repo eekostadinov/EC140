{
 "cells": [
  {
   "cell_type": "markdown",
   "id": "6dad5f46-ae1d-4896-8aaf-a9fb2c48c0b2",
   "metadata": {},
   "source": [
    "(chapter:basics_of_R)=\n",
    "\n",
    "# Basics of R\n",
    "\n",
    "This chapter is an introduction to some basic capabilities of R. After going through the chapter you will be able to\n",
    "- use R to evaluate arithmetic expressions (use R as a calculator)\n",
    "- add comments to your code\n",
    "- assign values to variables \n",
    "- create vectors\n",
    "\n",
    ":::{tip}\n",
    "To explore the codes below yourself you need a working R installation on your machine. Further, it is recommended to install and use RStudio (rather than the R GUI) for running the codes. \n",
    ":::\n",
    "\n",
    "The best way to work through the chapter is to read the discussion and then reproduce all code in your own R/RStudio installation. You can do this by copying code from a notebook cell to your R script and run the code line by line.\n",
    "\n",
    "The chapter includes some exercises that allow you to test your understanding. It is recommended that you try these exercises on your own before choosing the option to reveal the solutions."
   ]
  },
  {
   "cell_type": "markdown",
   "id": "bf2e2117-885a-4ccf-a5b2-3d2efbd67e39",
   "metadata": {},
   "source": [
    "## Using R as a calculator\n",
    "\n",
    "R can be used as a powerful calculator. \n",
    "\n",
    "In order to evaluate an arithmetic expression\n",
    "- enter the expression at the prompt in the command console and press Enter.\n",
    "- or enter the expression into a line of your R script and run the line.\n",
    "\n",
    "In order to enter expressions we need to know some basic syntax.\n",
    "\n",
    "### Basic arithmetic operations\n",
    "\n",
    "- `+`  Addition\n",
    "- `-`  Subtraction\n",
    "- `*`  Multiplication\n",
    "- `/`  Division\n",
    "- `^`  Exponentiation\n",
    "- `(...)`  Brackets\n",
    "\n",
    "For example,"
   ]
  },
  {
   "cell_type": "code",
   "execution_count": 1,
   "id": "7649e864-2d23-43b9-8d9c-d3cb87828858",
   "metadata": {
    "vscode": {
     "languageId": "r"
    }
   },
   "outputs": [
    {
     "data": {
      "text/html": [
       "4"
      ],
      "text/latex": [
       "4"
      ],
      "text/markdown": [
       "4"
      ],
      "text/plain": [
       "[1] 4"
      ]
     },
     "metadata": {},
     "output_type": "display_data"
    }
   ],
   "source": [
    "1+3"
   ]
  },
  {
   "cell_type": "code",
   "execution_count": 2,
   "id": "04de9e72-0c26-4e71-88bc-614c4d055b59",
   "metadata": {
    "vscode": {
     "languageId": "r"
    }
   },
   "outputs": [
    {
     "data": {
      "text/html": [
       "1.5"
      ],
      "text/latex": [
       "1.5"
      ],
      "text/markdown": [
       "1.5"
      ],
      "text/plain": [
       "[1] 1.5"
      ]
     },
     "metadata": {},
     "output_type": "display_data"
    }
   ],
   "source": [
    "3/2"
   ]
  },
  {
   "cell_type": "code",
   "execution_count": 3,
   "id": "620b8b89-dd12-4efb-91db-d5ede03464f0",
   "metadata": {
    "vscode": {
     "languageId": "r"
    }
   },
   "outputs": [
    {
     "data": {
      "text/html": [
       "30"
      ],
      "text/latex": [
       "30"
      ],
      "text/markdown": [
       "30"
      ],
      "text/plain": [
       "[1] 30"
      ]
     },
     "metadata": {},
     "output_type": "display_data"
    }
   ],
   "source": [
    "5*6"
   ]
  },
  {
   "cell_type": "code",
   "execution_count": 4,
   "id": "766496e5-4bfd-4bdd-9b29-419f259e5c97",
   "metadata": {
    "vscode": {
     "languageId": "r"
    }
   },
   "outputs": [
    {
     "data": {
      "text/html": [
       "27"
      ],
      "text/latex": [
       "27"
      ],
      "text/markdown": [
       "27"
      ],
      "text/plain": [
       "[1] 27"
      ]
     },
     "metadata": {},
     "output_type": "display_data"
    }
   ],
   "source": [
    "3^3"
   ]
  },
  {
   "cell_type": "code",
   "execution_count": 5,
   "id": "5d49b39b-20e7-4673-a4a1-2c5de02d2d97",
   "metadata": {
    "vscode": {
     "languageId": "r"
    }
   },
   "outputs": [
    {
     "data": {
      "text/html": [
       "25"
      ],
      "text/latex": [
       "25"
      ],
      "text/markdown": [
       "25"
      ],
      "text/plain": [
       "[1] 25"
      ]
     },
     "metadata": {},
     "output_type": "display_data"
    }
   ],
   "source": [
    "(2+3)^2"
   ]
  },
  {
   "cell_type": "markdown",
   "id": "fd5a5cbe-75df-4aa2-b420-712b77af2ef3",
   "metadata": {},
   "source": [
    "### Respecting the order of operations\n",
    "\n",
    "The above syntax can be extended to arbitrarily complex arithmetic expressions. \n",
    "\n",
    "However, make sure to respect the order of operations when entering your expression."
   ]
  },
  {
   "cell_type": "markdown",
   "id": "756077a3-0c97-4b1f-9b15-437b519c50c4",
   "metadata": {},
   "source": [
    "For example, `9^(1/2)` will evaluate $9^\\frac{1}{2}$ while `9^1/2` will evaluate $9^1/2$"
   ]
  },
  {
   "cell_type": "code",
   "execution_count": 6,
   "id": "c62b4610-4766-416d-a275-248fca3c8ffe",
   "metadata": {
    "vscode": {
     "languageId": "r"
    }
   },
   "outputs": [
    {
     "data": {
      "text/html": [
       "3"
      ],
      "text/latex": [
       "3"
      ],
      "text/markdown": [
       "3"
      ],
      "text/plain": [
       "[1] 3"
      ]
     },
     "metadata": {},
     "output_type": "display_data"
    }
   ],
   "source": [
    "9^(1/2)"
   ]
  },
  {
   "cell_type": "code",
   "execution_count": 7,
   "id": "ddd4b7d0-1780-4031-823e-6178e0641257",
   "metadata": {
    "vscode": {
     "languageId": "r"
    }
   },
   "outputs": [
    {
     "data": {
      "text/html": [
       "4.5"
      ],
      "text/latex": [
       "4.5"
      ],
      "text/markdown": [
       "4.5"
      ],
      "text/plain": [
       "[1] 4.5"
      ]
     },
     "metadata": {},
     "output_type": "display_data"
    }
   ],
   "source": [
    "9^1/2"
   ]
  },
  {
   "cell_type": "markdown",
   "id": "192b1f22-cf48-49c8-965d-a9bef11a85d6",
   "metadata": {},
   "source": [
    "As another example, `(4+5)*3` will evaluate $(4+5)\\times 3$, while `4+5*3` will evaluate $4+5\\times 3$"
   ]
  },
  {
   "cell_type": "code",
   "execution_count": 8,
   "id": "711cf4c3-d6a5-42b3-aa52-95e49fea7d2f",
   "metadata": {
    "tags": [],
    "vscode": {
     "languageId": "r"
    }
   },
   "outputs": [
    {
     "data": {
      "text/html": [
       "27"
      ],
      "text/latex": [
       "27"
      ],
      "text/markdown": [
       "27"
      ],
      "text/plain": [
       "[1] 27"
      ]
     },
     "metadata": {},
     "output_type": "display_data"
    }
   ],
   "source": [
    "(4+5)*3"
   ]
  },
  {
   "cell_type": "code",
   "execution_count": 9,
   "id": "99f938aa-a624-48d4-a583-246b5b16890e",
   "metadata": {
    "vscode": {
     "languageId": "r"
    }
   },
   "outputs": [
    {
     "data": {
      "text/html": [
       "19"
      ],
      "text/latex": [
       "19"
      ],
      "text/markdown": [
       "19"
      ],
      "text/plain": [
       "[1] 19"
      ]
     },
     "metadata": {},
     "output_type": "display_data"
    }
   ],
   "source": [
    "4+5*3"
   ]
  },
  {
   "cell_type": "markdown",
   "id": "436eed91-3810-4ae9-b4b1-50eb4c7d4461",
   "metadata": {},
   "source": [
    "Here are some more complicated examples:"
   ]
  },
  {
   "cell_type": "markdown",
   "id": "e86e579f-2a0f-4a8b-af3a-57e820015f2c",
   "metadata": {},
   "source": [
    "To evaluate $2(1+3)^{1/2}+5^3$ type"
   ]
  },
  {
   "cell_type": "code",
   "execution_count": 10,
   "id": "a27575df-1fc6-454c-9b99-5257cba71b25",
   "metadata": {
    "vscode": {
     "languageId": "r"
    }
   },
   "outputs": [
    {
     "data": {
      "text/html": [
       "129"
      ],
      "text/latex": [
       "129"
      ],
      "text/markdown": [
       "129"
      ],
      "text/plain": [
       "[1] 129"
      ]
     },
     "metadata": {},
     "output_type": "display_data"
    }
   ],
   "source": [
    "2*(1+3)^(1/2)+5^3"
   ]
  },
  {
   "cell_type": "markdown",
   "id": "40f48433-fe1d-4c48-b93b-93fe2af6d28b",
   "metadata": {},
   "source": [
    "To evaluate $[2(1+3)^{1/2}+5]^3$ type"
   ]
  },
  {
   "cell_type": "code",
   "execution_count": 11,
   "id": "8d171554-2a64-4218-bc63-e15310569810",
   "metadata": {
    "tags": [],
    "vscode": {
     "languageId": "r"
    }
   },
   "outputs": [
    {
     "data": {
      "text/html": [
       "729"
      ],
      "text/latex": [
       "729"
      ],
      "text/markdown": [
       "729"
      ],
      "text/plain": [
       "[1] 729"
      ]
     },
     "metadata": {},
     "output_type": "display_data"
    }
   ],
   "source": [
    "(2*(1+3)^(1/2)+5)^3"
   ]
  },
  {
   "cell_type": "markdown",
   "id": "f7a363b7-cd24-4956-8cb3-8dc36bed61b7",
   "metadata": {},
   "source": [
    "To evaluate $[2(1+3)]^{1/2}+5^3$ type"
   ]
  },
  {
   "cell_type": "code",
   "execution_count": 12,
   "id": "931d229d-d8bc-4ad4-b0c5-416ee59ffe59",
   "metadata": {
    "tags": [],
    "vscode": {
     "languageId": "r"
    }
   },
   "outputs": [
    {
     "data": {
      "text/html": [
       "127.828427124746"
      ],
      "text/latex": [
       "127.828427124746"
      ],
      "text/markdown": [
       "127.828427124746"
      ],
      "text/plain": [
       "[1] 127.8284"
      ]
     },
     "metadata": {},
     "output_type": "display_data"
    }
   ],
   "source": [
    "(2*(1+3))^(1/2)+5^3"
   ]
  },
  {
   "cell_type": "markdown",
   "id": "85b536f1",
   "metadata": {},
   "source": [
    "### Some important mathematical functions\n",
    "- **Square roots:** `sqrt(x)` returns the square root of $x$\n",
    "    - Note that roots can be equivalently stated as powers. \n",
    "    - For example, the square root of $x$ can be equivalently stated as $x^{1/2}$ and evaluated as `x^(1/2)`."
   ]
  },
  {
   "cell_type": "code",
   "execution_count": 13,
   "id": "e2a95ca5-58e0-47f6-b500-b5eef8922de1",
   "metadata": {
    "vscode": {
     "languageId": "r"
    }
   },
   "outputs": [
    {
     "data": {
      "text/html": [
       "3"
      ],
      "text/latex": [
       "3"
      ],
      "text/markdown": [
       "3"
      ],
      "text/plain": [
       "[1] 3"
      ]
     },
     "metadata": {},
     "output_type": "display_data"
    }
   ],
   "source": [
    "sqrt(9)"
   ]
  },
  {
   "cell_type": "markdown",
   "id": "fad13f5e",
   "metadata": {},
   "source": [
    "\n",
    "- **Natural exponential:** `exp(x)` returns $e^x$\n",
    "    - For exponential functions to a base different than $e$ simply use power notation.\n",
    "    - For example, for $2^3$ simply type `2^3`."
   ]
  },
  {
   "cell_type": "code",
   "execution_count": 14,
   "id": "9530a206-54f1-486d-8f47-feefa8c96750",
   "metadata": {
    "vscode": {
     "languageId": "r"
    }
   },
   "outputs": [
    {
     "data": {
      "text/html": [
       "20.0855369231877"
      ],
      "text/latex": [
       "20.0855369231877"
      ],
      "text/markdown": [
       "20.0855369231877"
      ],
      "text/plain": [
       "[1] 20.08554"
      ]
     },
     "metadata": {},
     "output_type": "display_data"
    }
   ],
   "source": [
    "exp(3)"
   ]
  },
  {
   "cell_type": "markdown",
   "id": "6f77e12c",
   "metadata": {},
   "source": [
    "- **Natural logarithm:** `log(x)` returns $\\ln(x)$\n",
    "    - Note that R uses `log(...)` to call the natural logarithm, i.e. $\\ln(...)$ or the logarithm to the base $e$ "
   ]
  },
  {
   "cell_type": "code",
   "execution_count": 15,
   "id": "f027a2c3-a519-4a11-98e2-6e1649aaf385",
   "metadata": {
    "vscode": {
     "languageId": "r"
    }
   },
   "outputs": [
    {
     "data": {
      "text/html": [
       "1.09861228866811"
      ],
      "text/latex": [
       "1.09861228866811"
      ],
      "text/markdown": [
       "1.09861228866811"
      ],
      "text/plain": [
       "[1] 1.098612"
      ]
     },
     "metadata": {},
     "output_type": "display_data"
    }
   ],
   "source": [
    "log(3)"
   ]
  },
  {
   "cell_type": "code",
   "execution_count": 16,
   "id": "bf25dde7-1c0d-4d8c-b5ec-8d996e887081",
   "metadata": {
    "vscode": {
     "languageId": "r"
    }
   },
   "outputs": [
    {
     "data": {
      "text/html": [
       "3"
      ],
      "text/latex": [
       "3"
      ],
      "text/markdown": [
       "3"
      ],
      "text/plain": [
       "[1] 3"
      ]
     },
     "metadata": {},
     "output_type": "display_data"
    }
   ],
   "source": [
    "log(exp(3))"
   ]
  },
  {
   "cell_type": "markdown",
   "id": "21d1408c-82f1-4bbd-9e6c-d4f57424e5e0",
   "metadata": {},
   "source": [
    "\n",
    "- **Logarithms to other bases:** `log(x,a)` returns $\\log_a x$, the \"logarithm to the base $a$ of $x$.\"\n",
    "    - For example, `log(8,2)` returns $\\log_2 8 = 3$, the \"logarithm to the base 2 of 8\". "
   ]
  },
  {
   "cell_type": "code",
   "execution_count": 17,
   "id": "c200fd6d-e914-4dfc-9f78-b13a7e94ccb0",
   "metadata": {
    "vscode": {
     "languageId": "r"
    }
   },
   "outputs": [
    {
     "data": {
      "text/html": [
       "3"
      ],
      "text/latex": [
       "3"
      ],
      "text/markdown": [
       "3"
      ],
      "text/plain": [
       "[1] 3"
      ]
     },
     "metadata": {},
     "output_type": "display_data"
    }
   ],
   "source": [
    "log(8,2)"
   ]
  },
  {
   "cell_type": "markdown",
   "id": "f9794981-47df-479e-b974-9e89b792ffa3",
   "metadata": {},
   "source": [
    "### Evaluating complex arithmetic expressions\n",
    "\n",
    "By using the above syntax correctly we can evaluate arbitrarily complex arithmetic expressions.\n",
    "\n",
    "For example, to evaluate $\\sqrt{3\\times(4/2)^5} + \\log_5 2 - e^5$, type"
   ]
  },
  {
   "cell_type": "code",
   "execution_count": 18,
   "id": "8927b58e-857f-457d-b6ea-370b98cc3ffe",
   "metadata": {
    "vscode": {
     "languageId": "r"
    }
   },
   "outputs": [
    {
     "data": {
      "text/html": [
       "-10.2656246752053"
      ],
      "text/latex": [
       "-10.2656246752053"
      ],
      "text/markdown": [
       "-10.2656246752053"
      ],
      "text/plain": [
       "[1] -10.26562"
      ]
     },
     "metadata": {},
     "output_type": "display_data"
    }
   ],
   "source": [
    "sqrt(3*(4/2)^5 + log(2,5)) - exp(3) "
   ]
  },
  {
   "cell_type": "markdown",
   "id": "3b687b50-b88d-4edd-b189-d0a84b000119",
   "metadata": {},
   "source": [
    ":::{exercise}\n",
    ":label: ex-arithmetic\n",
    "\n",
    "Evaluate the following arithmetic expressions in R\n",
    "\n",
    "a) \n",
    "\n",
    "$$ \n",
    "    7\\times\\frac{5^2}{(3-1)^3} + 2 \n",
    "$$\n",
    "\n",
    "b) \n",
    "\n",
    "$$ \n",
    "    \\log_2 (3+2\\times5) \n",
    "$$\n",
    "\n",
    "c) \n",
    "\n",
    "$$ \n",
    "    1 + e^{3-\\sqrt{2}} \n",
    "$$\n",
    "\n",
    ":::"
   ]
  },
  {
   "cell_type": "markdown",
   "id": "f778c9ea-4a99-43ea-b3bc-c19efdc73c14",
   "metadata": {},
   "source": [
    "::::{solution} ex-arithmetic\n",
    ":class: dropdown\n",
    "\n",
    "Example R codes that correctly evaluate the expressions are \n",
    "\n",
    "a) \n",
    ":::{code-block}\n",
    "7*(5^2)/((3-1)^3)+2\n",
    ":::\n",
    "\n",
    "b) \n",
    ":::{code-block}\n",
    "log(3+2*5,2)\n",
    ":::\n",
    "\n",
    "c) \n",
    ":::{code-block}\n",
    "1 + exp(3-sqrt(2))\n",
    ":::\n",
    "::::"
   ]
  },
  {
   "cell_type": "markdown",
   "id": "5fe634bf-8953-4e22-8a2a-807f1d712a61",
   "metadata": {},
   "source": [
    "## Adding comments to your code\n",
    "\n",
    "In programming you will often have to write and work through long pieces of code. Long codes can be messy and it is useful to have a way to add comments to your code - pieces of text that are not executed but help the coder explain the code (often to herself) and make it more readable. \n",
    "\n",
    "To start a comment in R, type `#` somewhere on a line of code and anything that follows on the line will not be executed, but will remain on the script as a comment.\n",
    "\n",
    "For example, we can add a comment before a line of code. The comment in itself is not executed."
   ]
  },
  {
   "cell_type": "code",
   "execution_count": 45,
   "id": "862521fe-13cd-4f16-a1ae-9e8c29111348",
   "metadata": {
    "vscode": {
     "languageId": "r"
    }
   },
   "outputs": [
    {
     "data": {
      "text/html": [
       "3"
      ],
      "text/latex": [
       "3"
      ],
      "text/markdown": [
       "3"
      ],
      "text/plain": [
       "[1] 3"
      ]
     },
     "metadata": {},
     "output_type": "display_data"
    }
   ],
   "source": [
    "# The following code evaluates the log to the base 2 of 8\n",
    "\n",
    "log(8,2)"
   ]
  },
  {
   "cell_type": "markdown",
   "id": "6b8e7de9-95b0-47bd-a1a5-005a2e2a051b",
   "metadata": {},
   "source": [
    "A comment can also be added on the end of a line of executable code"
   ]
  },
  {
   "cell_type": "code",
   "execution_count": 46,
   "id": "1e7d7d0f-cb60-4767-9d06-f83c71a4d59d",
   "metadata": {
    "vscode": {
     "languageId": "r"
    }
   },
   "outputs": [
    {
     "data": {
      "text/html": [
       "3"
      ],
      "text/latex": [
       "3"
      ],
      "text/markdown": [
       "3"
      ],
      "text/plain": [
       "[1] 3"
      ]
     },
     "metadata": {},
     "output_type": "display_data"
    }
   ],
   "source": [
    "log(8,2) # this evaluates the log to the base 2 of 8"
   ]
  },
  {
   "cell_type": "markdown",
   "id": "6511417d-2776-41be-813c-99977ffe27e7",
   "metadata": {},
   "source": [
    "While the examples of code encountered so far are not sufficiently complex to need explanation, it is a good idea to get into the habit of writing comments in your code. These notes will often use comments to explain pieces of code."
   ]
  },
  {
   "cell_type": "markdown",
   "id": "9d58d2f9-40d7-4d47-ba46-de112d2e31bc",
   "metadata": {},
   "source": [
    "## Assigning values to variables\n",
    "\n",
    ":::{warning}\n",
    "The concept of a **variable** has distinct (although related) meanings in the contexts of mathematics and programming. \n",
    "\n",
    "For the following discussion, adopt a programming perspective, and think of a variable as a named storage of value.\n",
    ":::\n",
    "\n",
    "We can use variables to store values of interest, allowing us to access these values by calling the name of the variable.\n",
    "\n",
    "In R we can assign a value to a variable by using the `<-` or `=` operators.\n",
    "\n",
    "For example, the code `a <- 2` creates a variable named `a` whose value is the number $2$. The same assignment can be equivalently done by using the code `a = 2`.\n",
    "\n",
    ":::{note}\n",
    "While both `<-` and `=` can be used to assign values to variables, the `<-` syntax is preferred (partly for historical reasons) and henceforth these notes will follow this syntax.\n",
    ":::\n",
    "\n",
    "For example, the following code assigns the value `3` to a new variable called `a`"
   ]
  },
  {
   "cell_type": "code",
   "execution_count": 48,
   "id": "4c2a2ce6-34ba-461e-8c72-7daa0cd8268e",
   "metadata": {
    "vscode": {
     "languageId": "r"
    }
   },
   "outputs": [],
   "source": [
    "a <- 3"
   ]
  },
  {
   "cell_type": "markdown",
   "id": "a0a31524-72c4-4cc8-8908-97cee9112279",
   "metadata": {},
   "source": [
    "Now a call to `a` retuns the assigned value"
   ]
  },
  {
   "cell_type": "code",
   "execution_count": 49,
   "id": "a52abc51-a3dd-4a7b-bb2a-e995a9b41d82",
   "metadata": {
    "vscode": {
     "languageId": "r"
    }
   },
   "outputs": [
    {
     "data": {
      "text/html": [
       "3"
      ],
      "text/latex": [
       "3"
      ],
      "text/markdown": [
       "3"
      ],
      "text/plain": [
       "[1] 3"
      ]
     },
     "metadata": {},
     "output_type": "display_data"
    }
   ],
   "source": [
    "a"
   ]
  },
  {
   "cell_type": "markdown",
   "id": "45aa4c0f-a0c9-4fa5-b2fb-53ebf6500c8d",
   "metadata": {},
   "source": [
    "Furthermore, we can use the variable in the place of it's value in any operation:"
   ]
  },
  {
   "cell_type": "code",
   "execution_count": 52,
   "id": "5e42162b-2b10-45b4-8fb5-5205d4f8f48a",
   "metadata": {
    "vscode": {
     "languageId": "r"
    }
   },
   "outputs": [
    {
     "data": {
      "text/html": [
       "6"
      ],
      "text/latex": [
       "6"
      ],
      "text/markdown": [
       "6"
      ],
      "text/plain": [
       "[1] 6"
      ]
     },
     "metadata": {},
     "output_type": "display_data"
    }
   ],
   "source": [
    "a+3"
   ]
  },
  {
   "cell_type": "code",
   "execution_count": 51,
   "id": "b422ca87-dd8c-479e-90c4-4d4c3810da77",
   "metadata": {
    "vscode": {
     "languageId": "r"
    }
   },
   "outputs": [
    {
     "data": {
      "text/html": [
       "9"
      ],
      "text/latex": [
       "9"
      ],
      "text/markdown": [
       "9"
      ],
      "text/plain": [
       "[1] 9"
      ]
     },
     "metadata": {},
     "output_type": "display_data"
    }
   ],
   "source": [
    "a^2"
   ]
  },
  {
   "cell_type": "code",
   "execution_count": 25,
   "id": "bf5f58c7-1e6b-4d63-a212-092f79934300",
   "metadata": {
    "vscode": {
     "languageId": "r"
    }
   },
   "outputs": [
    {
     "data": {
      "text/html": [
       "27"
      ],
      "text/latex": [
       "27"
      ],
      "text/markdown": [
       "27"
      ],
      "text/plain": [
       "[1] 27"
      ]
     },
     "metadata": {},
     "output_type": "display_data"
    }
   ],
   "source": [
    "a^a"
   ]
  },
  {
   "cell_type": "markdown",
   "id": "fe5d4c63-16b3-4817-82fb-7401cddb67e0",
   "metadata": {},
   "source": [
    "We can assign the value of arbitrarily complex arithmetic expression to a variable. For example"
   ]
  },
  {
   "cell_type": "code",
   "execution_count": 26,
   "id": "e4ccefa6-43a6-4a69-93c8-f0e261b20cd6",
   "metadata": {
    "vscode": {
     "languageId": "r"
    }
   },
   "outputs": [],
   "source": [
    "b <- log(8,2) + sqrt(4)"
   ]
  },
  {
   "cell_type": "code",
   "execution_count": 27,
   "id": "dfeae4a4-1802-44dc-8ab6-bc5752e071a2",
   "metadata": {
    "vscode": {
     "languageId": "r"
    }
   },
   "outputs": [
    {
     "data": {
      "text/html": [
       "5"
      ],
      "text/latex": [
       "5"
      ],
      "text/markdown": [
       "5"
      ],
      "text/plain": [
       "[1] 5"
      ]
     },
     "metadata": {},
     "output_type": "display_data"
    }
   ],
   "source": [
    "b"
   ]
  },
  {
   "cell_type": "markdown",
   "id": "9b1ec131-c28b-4ae3-b92c-8a617aaadd7b",
   "metadata": {},
   "source": [
    "Henceforth, any arithmetic expression involving `a` and `b` will use thee values stired in `a` and `b` to evaluate."
   ]
  },
  {
   "cell_type": "code",
   "execution_count": 53,
   "id": "7eef98ec-f997-47b2-99ae-49a148eb0ffe",
   "metadata": {
    "vscode": {
     "languageId": "r"
    }
   },
   "outputs": [
    {
     "data": {
      "text/html": [
       "8"
      ],
      "text/latex": [
       "8"
      ],
      "text/markdown": [
       "8"
      ],
      "text/plain": [
       "[1] 8"
      ]
     },
     "metadata": {},
     "output_type": "display_data"
    }
   ],
   "source": [
    "a+b"
   ]
  },
  {
   "cell_type": "markdown",
   "id": "8a6f1bf4-2b16-462c-b5e3-057a3d45fb01",
   "metadata": {},
   "source": [
    ":::{exercise}\n",
    ":label: ex-vars\n",
    "\n",
    "Assing the value $2$ to a new variable called `r`. \n",
    "\n",
    "Then assign the value of the expression $4r^2$ to a new variable called `b`. \n",
    "\n",
    "Then call `b` to see its value.\n",
    ":::"
   ]
  },
  {
   "cell_type": "markdown",
   "id": "4fed793a-b0ae-4d12-9fb3-eae9c785ef9b",
   "metadata": {},
   "source": [
    "::::{solution} ex-vars\n",
    ":class: dropdown\n",
    "\n",
    ":::{code-block}\n",
    "r <- 2;             # create a variable `r` with value equal to 2\n",
    "b <- 4*r^2;         # create a variable `b` with value equal to 4*r^2\n",
    "b                   # call `b` to see its value \n",
    ":::\n",
    "::::"
   ]
  },
  {
   "cell_type": "markdown",
   "id": "fa27f8ab-2d76-42b3-97af-abe4e589dc90",
   "metadata": {},
   "source": [
    "(section:basics:vectors)=\n",
    "\n",
    "## Vectors\n",
    "\n",
    "For the purpose of the following discussion think of a vector (naively) as a data structure representing an ordered list of numbers.\n",
    "\n",
    ":::{warning}\n",
    "The concept of a **vector** has distinct (although related) meanings in the contexts of mathematics and programming. \n",
    "\n",
    "We will learn about the precise mathematical meaning of vectors later in the course.  \n",
    "\n",
    "However, at this stage we emphasise the programming-context meaning of vectors as a *data structure*, which will be needed for many of the topics discussed in these notes.\n",
    ":::\n",
    "\n",
    "For example, the ordered list of numbers $[1,2,5,7]$ is a vector of four elements, with the first element $1$, the second element $2$, the third element $5$ and fourth element $7$. Note that this is a different vector from the vector $[1,2,7,5]$ as even though they both contain the same elements, these elements appear in different order. *The order matters in a vector.*\n"
   ]
  },
  {
   "cell_type": "markdown",
   "id": "e9bdef0e-1b13-410d-95bb-23fce3ed45ab",
   "metadata": {},
   "source": [
    "### Constructing vectors by using the `c()` function\n",
    "\n",
    "In general, a vector of the form $[x1,x2,...,xn]$, \n",
    "- where $x1,x2,...,xn$ are some specific numbers\n",
    "- can be constructed by typing `c(x1,x2,...,xn)`.\n",
    "\n",
    "For example, to construct the vector $[1,2,5,7]$ simply type `c(1,2,5,7)`\n"
   ]
  },
  {
   "cell_type": "code",
   "execution_count": 29,
   "id": "b3a36262-f74d-491e-9be2-f470c3633a56",
   "metadata": {
    "vscode": {
     "languageId": "r"
    }
   },
   "outputs": [
    {
     "data": {
      "text/html": [
       "<style>\n",
       ".list-inline {list-style: none; margin:0; padding: 0}\n",
       ".list-inline>li {display: inline-block}\n",
       ".list-inline>li:not(:last-child)::after {content: \"\\00b7\"; padding: 0 .5ex}\n",
       "</style>\n",
       "<ol class=list-inline><li>1</li><li>2</li><li>5</li><li>7</li></ol>\n"
      ],
      "text/latex": [
       "\\begin{enumerate*}\n",
       "\\item 1\n",
       "\\item 2\n",
       "\\item 5\n",
       "\\item 7\n",
       "\\end{enumerate*}\n"
      ],
      "text/markdown": [
       "1. 1\n",
       "2. 2\n",
       "3. 5\n",
       "4. 7\n",
       "\n",
       "\n"
      ],
      "text/plain": [
       "[1] 1 2 5 7"
      ]
     },
     "metadata": {},
     "output_type": "display_data"
    }
   ],
   "source": [
    "c(1,2,5,7)"
   ]
  },
  {
   "cell_type": "markdown",
   "id": "fa1b07c6-bb6b-4f3f-a90e-87eab7d7dd70",
   "metadata": {},
   "source": [
    "We can also assign the value of a vector to a variable.\n",
    "\n",
    "For example, to assign the above vector to a variable called `a` type"
   ]
  },
  {
   "cell_type": "code",
   "execution_count": 30,
   "id": "94eadca7-c7a5-40df-9869-5a0f71e829a8",
   "metadata": {
    "vscode": {
     "languageId": "r"
    }
   },
   "outputs": [],
   "source": [
    "a <- c(1,2,5,7)"
   ]
  },
  {
   "cell_type": "code",
   "execution_count": 31,
   "id": "f15de3f7-c7d1-44b4-be05-d13ca4b1e2a0",
   "metadata": {
    "vscode": {
     "languageId": "r"
    }
   },
   "outputs": [
    {
     "data": {
      "text/html": [
       "<style>\n",
       ".list-inline {list-style: none; margin:0; padding: 0}\n",
       ".list-inline>li {display: inline-block}\n",
       ".list-inline>li:not(:last-child)::after {content: \"\\00b7\"; padding: 0 .5ex}\n",
       "</style>\n",
       "<ol class=list-inline><li>1</li><li>2</li><li>5</li><li>7</li></ol>\n"
      ],
      "text/latex": [
       "\\begin{enumerate*}\n",
       "\\item 1\n",
       "\\item 2\n",
       "\\item 5\n",
       "\\item 7\n",
       "\\end{enumerate*}\n"
      ],
      "text/markdown": [
       "1. 1\n",
       "2. 2\n",
       "3. 5\n",
       "4. 7\n",
       "\n",
       "\n"
      ],
      "text/plain": [
       "[1] 1 2 5 7"
      ]
     },
     "metadata": {},
     "output_type": "display_data"
    }
   ],
   "source": [
    "a"
   ]
  },
  {
   "cell_type": "markdown",
   "id": "958cde0f-79fa-49ea-a605-596747139271",
   "metadata": {},
   "source": [
    "We can obtain the number of elements in a vector by using the `length()` function."
   ]
  },
  {
   "cell_type": "code",
   "execution_count": 32,
   "id": "a0544375-1c92-49b4-9f94-05a7c4d89583",
   "metadata": {
    "vscode": {
     "languageId": "r"
    }
   },
   "outputs": [
    {
     "data": {
      "text/html": [
       "4"
      ],
      "text/latex": [
       "4"
      ],
      "text/markdown": [
       "4"
      ],
      "text/plain": [
       "[1] 4"
      ]
     },
     "metadata": {},
     "output_type": "display_data"
    }
   ],
   "source": [
    "length(a)"
   ]
  },
  {
   "cell_type": "markdown",
   "id": "4bf6bbe2-2388-489a-85f9-5a51a01cf0c7",
   "metadata": {},
   "source": [
    "We can access the different elements of a vector by calling the vector followed by the element's index in square brackets. In general, given a vector named `vec`, then the code `vec[n]` returns the $n$-th element of the vector. \n",
    "\n",
    "For example, to call the 4th element of the vector `a` above, type"
   ]
  },
  {
   "cell_type": "code",
   "execution_count": 33,
   "id": "b611eca0-5109-40c5-9a0c-1c2f481544d1",
   "metadata": {
    "vscode": {
     "languageId": "r"
    }
   },
   "outputs": [
    {
     "data": {
      "text/html": [
       "7"
      ],
      "text/latex": [
       "7"
      ],
      "text/markdown": [
       "7"
      ],
      "text/plain": [
       "[1] 7"
      ]
     },
     "metadata": {},
     "output_type": "display_data"
    }
   ],
   "source": [
    "a[4]"
   ]
  },
  {
   "cell_type": "markdown",
   "id": "5855dfeb-5d3b-42ef-9700-b7de64a307b8",
   "metadata": {},
   "source": [
    "### Constructing vectors of evenly spaced numbers \n",
    "\n",
    "In some context (especially in {ref}`chapter:plotting`) we will need to construct vectors of evenly spaced numbers.\n",
    "\n",
    "This can be done by using the `seq()` function (for *sequence*). In general, the code `seq(from=a, to=b, by=d)` creates a vector with first element `a`, last element `b` and distance `d` between consecutive elements.\n",
    "\n",
    "For example, to create the vector $[1,2,3,4,5,6,7,8,9,10]$ and assign it to a variable named `a` we can type"
   ]
  },
  {
   "cell_type": "code",
   "execution_count": 34,
   "id": "807682ee-c9bb-498d-99c4-089fb3668eb8",
   "metadata": {
    "vscode": {
     "languageId": "r"
    }
   },
   "outputs": [],
   "source": [
    "a <- seq(from=1, to=10, by=1)"
   ]
  },
  {
   "cell_type": "code",
   "execution_count": 35,
   "id": "2cab0bac-14b5-49ba-9077-2958dfa0c92e",
   "metadata": {
    "vscode": {
     "languageId": "r"
    }
   },
   "outputs": [
    {
     "data": {
      "text/html": [
       "<style>\n",
       ".list-inline {list-style: none; margin:0; padding: 0}\n",
       ".list-inline>li {display: inline-block}\n",
       ".list-inline>li:not(:last-child)::after {content: \"\\00b7\"; padding: 0 .5ex}\n",
       "</style>\n",
       "<ol class=list-inline><li>1</li><li>2</li><li>3</li><li>4</li><li>5</li><li>6</li><li>7</li><li>8</li><li>9</li><li>10</li></ol>\n"
      ],
      "text/latex": [
       "\\begin{enumerate*}\n",
       "\\item 1\n",
       "\\item 2\n",
       "\\item 3\n",
       "\\item 4\n",
       "\\item 5\n",
       "\\item 6\n",
       "\\item 7\n",
       "\\item 8\n",
       "\\item 9\n",
       "\\item 10\n",
       "\\end{enumerate*}\n"
      ],
      "text/markdown": [
       "1. 1\n",
       "2. 2\n",
       "3. 3\n",
       "4. 4\n",
       "5. 5\n",
       "6. 6\n",
       "7. 7\n",
       "8. 8\n",
       "9. 9\n",
       "10. 10\n",
       "\n",
       "\n"
      ],
      "text/plain": [
       " [1]  1  2  3  4  5  6  7  8  9 10"
      ]
     },
     "metadata": {},
     "output_type": "display_data"
    }
   ],
   "source": [
    "a"
   ]
  },
  {
   "cell_type": "markdown",
   "id": "39fa92c2-5182-4a41-a91f-8778ded557d0",
   "metadata": {},
   "source": [
    "As another example, to create the vector $[1,1.5,2,2.5,3,...,9,9.5,10]$ and assign it to a variable named `a` we can type"
   ]
  },
  {
   "cell_type": "code",
   "execution_count": 36,
   "id": "9df8015d-45e3-4cfd-9e5f-61d71a27a7e0",
   "metadata": {
    "vscode": {
     "languageId": "r"
    }
   },
   "outputs": [],
   "source": [
    "a <- seq(from=1, to=10, by=0.5)"
   ]
  },
  {
   "cell_type": "code",
   "execution_count": 37,
   "id": "b07e4824-aa51-454f-b92e-8c1319be3bbb",
   "metadata": {
    "vscode": {
     "languageId": "r"
    }
   },
   "outputs": [
    {
     "data": {
      "text/html": [
       "<style>\n",
       ".list-inline {list-style: none; margin:0; padding: 0}\n",
       ".list-inline>li {display: inline-block}\n",
       ".list-inline>li:not(:last-child)::after {content: \"\\00b7\"; padding: 0 .5ex}\n",
       "</style>\n",
       "<ol class=list-inline><li>1</li><li>1.5</li><li>2</li><li>2.5</li><li>3</li><li>3.5</li><li>4</li><li>4.5</li><li>5</li><li>5.5</li><li>6</li><li>6.5</li><li>7</li><li>7.5</li><li>8</li><li>8.5</li><li>9</li><li>9.5</li><li>10</li></ol>\n"
      ],
      "text/latex": [
       "\\begin{enumerate*}\n",
       "\\item 1\n",
       "\\item 1.5\n",
       "\\item 2\n",
       "\\item 2.5\n",
       "\\item 3\n",
       "\\item 3.5\n",
       "\\item 4\n",
       "\\item 4.5\n",
       "\\item 5\n",
       "\\item 5.5\n",
       "\\item 6\n",
       "\\item 6.5\n",
       "\\item 7\n",
       "\\item 7.5\n",
       "\\item 8\n",
       "\\item 8.5\n",
       "\\item 9\n",
       "\\item 9.5\n",
       "\\item 10\n",
       "\\end{enumerate*}\n"
      ],
      "text/markdown": [
       "1. 1\n",
       "2. 1.5\n",
       "3. 2\n",
       "4. 2.5\n",
       "5. 3\n",
       "6. 3.5\n",
       "7. 4\n",
       "8. 4.5\n",
       "9. 5\n",
       "10. 5.5\n",
       "11. 6\n",
       "12. 6.5\n",
       "13. 7\n",
       "14. 7.5\n",
       "15. 8\n",
       "16. 8.5\n",
       "17. 9\n",
       "18. 9.5\n",
       "19. 10\n",
       "\n",
       "\n"
      ],
      "text/plain": [
       " [1]  1.0  1.5  2.0  2.5  3.0  3.5  4.0  4.5  5.0  5.5  6.0  6.5  7.0  7.5  8.0\n",
       "[16]  8.5  9.0  9.5 10.0"
      ]
     },
     "metadata": {},
     "output_type": "display_data"
    }
   ],
   "source": [
    "a"
   ]
  },
  {
   "cell_type": "markdown",
   "id": "f8777eec-e825-4171-b773-a65167cbb40c",
   "metadata": {},
   "source": [
    "Note that exactly the same can be achieved by passing the arguments without keywords `from`, `to` and `by`."
   ]
  },
  {
   "cell_type": "code",
   "execution_count": 38,
   "id": "a064f1cc-cb54-49ba-8e50-6a47ac81beb3",
   "metadata": {
    "vscode": {
     "languageId": "r"
    }
   },
   "outputs": [
    {
     "data": {
      "text/html": [
       "<style>\n",
       ".list-inline {list-style: none; margin:0; padding: 0}\n",
       ".list-inline>li {display: inline-block}\n",
       ".list-inline>li:not(:last-child)::after {content: \"\\00b7\"; padding: 0 .5ex}\n",
       "</style>\n",
       "<ol class=list-inline><li>1</li><li>1.5</li><li>2</li><li>2.5</li><li>3</li><li>3.5</li><li>4</li><li>4.5</li><li>5</li><li>5.5</li><li>6</li><li>6.5</li><li>7</li><li>7.5</li><li>8</li><li>8.5</li><li>9</li><li>9.5</li><li>10</li></ol>\n"
      ],
      "text/latex": [
       "\\begin{enumerate*}\n",
       "\\item 1\n",
       "\\item 1.5\n",
       "\\item 2\n",
       "\\item 2.5\n",
       "\\item 3\n",
       "\\item 3.5\n",
       "\\item 4\n",
       "\\item 4.5\n",
       "\\item 5\n",
       "\\item 5.5\n",
       "\\item 6\n",
       "\\item 6.5\n",
       "\\item 7\n",
       "\\item 7.5\n",
       "\\item 8\n",
       "\\item 8.5\n",
       "\\item 9\n",
       "\\item 9.5\n",
       "\\item 10\n",
       "\\end{enumerate*}\n"
      ],
      "text/markdown": [
       "1. 1\n",
       "2. 1.5\n",
       "3. 2\n",
       "4. 2.5\n",
       "5. 3\n",
       "6. 3.5\n",
       "7. 4\n",
       "8. 4.5\n",
       "9. 5\n",
       "10. 5.5\n",
       "11. 6\n",
       "12. 6.5\n",
       "13. 7\n",
       "14. 7.5\n",
       "15. 8\n",
       "16. 8.5\n",
       "17. 9\n",
       "18. 9.5\n",
       "19. 10\n",
       "\n",
       "\n"
      ],
      "text/plain": [
       " [1]  1.0  1.5  2.0  2.5  3.0  3.5  4.0  4.5  5.0  5.5  6.0  6.5  7.0  7.5  8.0\n",
       "[16]  8.5  9.0  9.5 10.0"
      ]
     },
     "metadata": {},
     "output_type": "display_data"
    }
   ],
   "source": [
    "a <- seq(1, 10, 0.5)\n",
    "a"
   ]
  },
  {
   "cell_type": "markdown",
   "id": "ee3011dc-6ca2-48ad-944a-edf8a9866f29",
   "metadata": {},
   "source": [
    "As discussed above we can use `length()` to check the number of elements, and can access specific elements by indexing with `[]`.\n",
    "\n",
    "For example, the number of elements of `a` defined above is"
   ]
  },
  {
   "cell_type": "code",
   "execution_count": 39,
   "id": "c0e6868a-bf8d-43d2-a428-bd760d4f2592",
   "metadata": {
    "vscode": {
     "languageId": "r"
    }
   },
   "outputs": [
    {
     "data": {
      "text/html": [
       "19"
      ],
      "text/latex": [
       "19"
      ],
      "text/markdown": [
       "19"
      ],
      "text/plain": [
       "[1] 19"
      ]
     },
     "metadata": {},
     "output_type": "display_data"
    }
   ],
   "source": [
    "length(a)"
   ]
  },
  {
   "cell_type": "markdown",
   "id": "2ac203f4-68c0-4fff-8c80-70fd1ff1b76b",
   "metadata": {},
   "source": [
    "The 12th element of `a` is"
   ]
  },
  {
   "cell_type": "code",
   "execution_count": 40,
   "id": "6226c637-134e-4dc2-92d1-168a81cef085",
   "metadata": {
    "vscode": {
     "languageId": "r"
    }
   },
   "outputs": [
    {
     "data": {
      "text/html": [
       "6.5"
      ],
      "text/latex": [
       "6.5"
      ],
      "text/markdown": [
       "6.5"
      ],
      "text/plain": [
       "[1] 6.5"
      ]
     },
     "metadata": {},
     "output_type": "display_data"
    }
   ],
   "source": [
    "a[12]"
   ]
  },
  {
   "cell_type": "markdown",
   "id": "e1c8d6d0-e655-417b-92ce-144b88e04794",
   "metadata": {},
   "source": [
    ":::{exercise} \n",
    ":label: ex-seq\n",
    "\n",
    "Construct a vector, called `vec`, of evenly spaced numbers between -5 and 5 with distance 0.25 between consecutive elements.\n",
    "\n",
    "Find the number of elements of the vector.\n",
    "\n",
    "Find the 13th element of the vector.\n",
    "\n",
    ":::"
   ]
  },
  {
   "cell_type": "markdown",
   "id": "4437bbf2-9428-4fd3-87d9-35e2573e1f94",
   "metadata": {},
   "source": [
    "::::{solution} ex-seq\n",
    ":class: dropdown\n",
    "\n",
    ":::{code-block}\n",
    "vec <- seq(from=-5, to=5, by = 0.25) # constructing the vector\n",
    "length(vec)                          # find the number of elements\n",
    "vec[13]                              # find the 13th element\n",
    ":::\n",
    "\n",
    "::::"
   ]
  },
  {
   "cell_type": "markdown",
   "id": "2cd12141-fbd7-4f97-8ae5-f0212eb9ae7d",
   "metadata": {},
   "source": [
    "### Constructing vectors of evenly spaced numbers using the `:` operator\n",
    "\n",
    "As seen above one way to construct a vector of evenly spaced numbers between `a` and `b` with distance 1 between consecutive elements is to use `seq(from=a, to=b, by=1)`\n",
    "\n",
    "However, when the distance between elements is 1, we can also use the shorthand notation `a:b` instead.\n",
    "\n",
    "For example, to construct the vector $[-3,-2,-1,0,1,2,3]$ and assign it to a variable `a` we can type"
   ]
  },
  {
   "cell_type": "code",
   "execution_count": 41,
   "id": "42508492-00fd-490b-8485-9e8913919b3b",
   "metadata": {
    "vscode": {
     "languageId": "r"
    }
   },
   "outputs": [],
   "source": [
    "a <- -3:3"
   ]
  },
  {
   "cell_type": "code",
   "execution_count": 42,
   "id": "cd30db32-be20-430c-be13-f35421b8ff1d",
   "metadata": {
    "vscode": {
     "languageId": "r"
    }
   },
   "outputs": [
    {
     "data": {
      "text/html": [
       "<style>\n",
       ".list-inline {list-style: none; margin:0; padding: 0}\n",
       ".list-inline>li {display: inline-block}\n",
       ".list-inline>li:not(:last-child)::after {content: \"\\00b7\"; padding: 0 .5ex}\n",
       "</style>\n",
       "<ol class=list-inline><li>-3</li><li>-2</li><li>-1</li><li>0</li><li>1</li><li>2</li><li>3</li></ol>\n"
      ],
      "text/latex": [
       "\\begin{enumerate*}\n",
       "\\item -3\n",
       "\\item -2\n",
       "\\item -1\n",
       "\\item 0\n",
       "\\item 1\n",
       "\\item 2\n",
       "\\item 3\n",
       "\\end{enumerate*}\n"
      ],
      "text/markdown": [
       "1. -3\n",
       "2. -2\n",
       "3. -1\n",
       "4. 0\n",
       "5. 1\n",
       "6. 2\n",
       "7. 3\n",
       "\n",
       "\n"
      ],
      "text/plain": [
       "[1] -3 -2 -1  0  1  2  3"
      ]
     },
     "metadata": {},
     "output_type": "display_data"
    }
   ],
   "source": [
    "a"
   ]
  },
  {
   "cell_type": "markdown",
   "id": "5948b359-6b42-4c66-b688-f4cb35e941fc",
   "metadata": {},
   "source": [
    "Note that exactly the same vector can be constructed using the `seq()` function"
   ]
  },
  {
   "cell_type": "code",
   "execution_count": 43,
   "id": "d72a3094-fbb6-4284-87b9-878e38e954ab",
   "metadata": {
    "vscode": {
     "languageId": "r"
    }
   },
   "outputs": [
    {
     "data": {
      "text/html": [
       "<style>\n",
       ".list-inline {list-style: none; margin:0; padding: 0}\n",
       ".list-inline>li {display: inline-block}\n",
       ".list-inline>li:not(:last-child)::after {content: \"\\00b7\"; padding: 0 .5ex}\n",
       "</style>\n",
       "<ol class=list-inline><li>-3</li><li>-2</li><li>-1</li><li>0</li><li>1</li><li>2</li><li>3</li></ol>\n"
      ],
      "text/latex": [
       "\\begin{enumerate*}\n",
       "\\item -3\n",
       "\\item -2\n",
       "\\item -1\n",
       "\\item 0\n",
       "\\item 1\n",
       "\\item 2\n",
       "\\item 3\n",
       "\\end{enumerate*}\n"
      ],
      "text/markdown": [
       "1. -3\n",
       "2. -2\n",
       "3. -1\n",
       "4. 0\n",
       "5. 1\n",
       "6. 2\n",
       "7. 3\n",
       "\n",
       "\n"
      ],
      "text/plain": [
       "[1] -3 -2 -1  0  1  2  3"
      ]
     },
     "metadata": {},
     "output_type": "display_data"
    }
   ],
   "source": [
    "seq(from=-3,to=3,by=1)"
   ]
  },
  {
   "cell_type": "markdown",
   "id": "fdf39d4f-a5e3-4659-ac47-47a495708970",
   "metadata": {},
   "source": [
    "The `seq()` function is more powerful because it also allows us to construct vectors where distance between elements is different from 1. For example, the vector constructed by `seq(from=0, to=2, by=0.25)` cannot be constructed using the `:` operator. "
   ]
  },
  {
   "cell_type": "markdown",
   "id": "2e27c359-b5ea-46b0-81bd-a23ed866d366",
   "metadata": {},
   "source": [
    "Nonetheless, constructing equally spaced vectors with `:` is a useful shorthand notation in cases when we want all elements of the vector to be consecutive integers. We will encounter such cases during the course, so you should be aware of the syntax."
   ]
  },
  {
   "cell_type": "markdown",
   "id": "45e517cd-d2dc-4caa-9d49-ef5a58d66864",
   "metadata": {},
   "source": [
    "This completes the chapter on {ref}`chapter:basics_of_R`. In the next chapter we turn attention to using R for plotting functions of one variable."
   ]
  }
 ],
 "metadata": {
  "kernelspec": {
   "display_name": "R",
   "language": "R",
   "name": "ir"
  },
  "language_info": {
   "codemirror_mode": "r",
   "file_extension": ".r",
   "mimetype": "text/x-r-source",
   "name": "R",
   "pygments_lexer": "r",
   "version": "4.2.1"
  },
  "toc-autonumbering": true
 },
 "nbformat": 4,
 "nbformat_minor": 5
}
